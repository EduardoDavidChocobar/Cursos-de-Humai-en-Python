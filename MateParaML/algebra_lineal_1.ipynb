{
  "nbformat": 4,
  "nbformat_minor": 0,
  "metadata": {
    "colab": {
      "name": "Álgebra Lineal.pynb",
      "provenance": [],
      "collapsed_sections": []
    },
    "kernelspec": {
      "name": "python3",
      "display_name": "Python 3"
    },
    "language_info": {
      "name": "python"
    }
  },
  "cells": [
    {
      "cell_type": "markdown",
      "metadata": {
        "id": "1rvqCAAkR3N5"
      },
      "source": [
        "# Clase 5: Análisis de Datos\n",
        "\n",
        "- MyPersonality\n",
        "- Vectores\n",
        "  - Definición\n",
        "  - Vectores en python\n",
        "  - \"Ploteando\" vectores\n",
        "  - Norma\n",
        "  - Suma\n",
        "  - Multiplicación por un escalar\n",
        "  - Multiplicación por escalar\n",
        "- Matrices\n",
        "  - Matrices en Python\n",
        "  - Indexando Matrices\n"
      ]
    },
    {
      "cell_type": "markdown",
      "metadata": {
        "id": "tIPBq-XweaYC"
      },
      "source": [
        "# MyPersonality"
      ]
    },
    {
      "cell_type": "markdown",
      "metadata": {
        "id": "1Wrsnq91dug0"
      },
      "source": [
        "El dataset MyPersonality generó mucha [controversia](https://www.businessinsider.com/facebook-investigates-mypersonality-app-in-new-data-scare-2018-5), ya que incluye información sensible de millones de personas y no siempre fue recolectada con consentimiento. Consiste en información del perfil y de actualizaciones de la red social Facebook, apareada con puntajes de rasgos de personalidad calculadas vía un cuestionario en la app. \n",
        "\n",
        "La prueba Big5 (Costa y Mac Crae 1985, Goldberg et al. 2006) es una taxonomía o clasificación de rasgos de personalidad que analiza la composición de cinco dimensiones de personalidad en su sentido más amplio. Esta disertación se publicó en el Psychological Review, 41, 1-32. Los cinco factores son:\n",
        "\n",
        "- Apertura a la experiencia (inventivo / curioso vs. consistente / cauteloso) O  \n",
        "- Escrupulosidad (eficiente / organizado vs. extravagante / descuidado) C  \n",
        "- Extraversión (sociable / enérgico vs. solitario / reservado) E  \n",
        "- Amabilidad (amigable / compasivo vs. desafiante / insensible) A  \n",
        "- Neuroticismo (susceptible / nervioso vs. resistente / seguro) N"
      ]
    },
    {
      "cell_type": "code",
      "metadata": {
        "id": "2LAYxcZGeYdN"
      },
      "source": [
        "import pandas as pd\n",
        "import plotly.express as px\n",
        "from scipy.stats import pearsonr\n",
        "import seaborn as sns\n",
        "import numpy as np"
      ],
      "execution_count": null,
      "outputs": []
    },
    {
      "cell_type": "code",
      "metadata": {
        "id": "jlo9DZIydK0G"
      },
      "source": [
        "df = pd.read_csv('https://unket.s3-sa-east-1.amazonaws.com/data/mypersonality.csv') ok_cupid_data.csv"
      ],
      "execution_count": null,
      "outputs": []
    },
    {
      "cell_type": "code",
      "metadata": {
        "colab": {
          "base_uri": "https://localhost:8080/"
        },
        "id": "T2NXopAXulZp",
        "outputId": "61bd8803-ca40-446a-8f66-21a7e8528ef3"
      },
      "source": [
        "df['sEXT']"
      ],
      "execution_count": null,
      "outputs": [
        {
          "output_type": "execute_result",
          "data": {
            "text/plain": [
              "0       2.65\n",
              "1       2.65\n",
              "2       2.65\n",
              "3       2.65\n",
              "4       2.65\n",
              "        ... \n",
              "9912    2.15\n",
              "9913    4.05\n",
              "9914    4.05\n",
              "9915    1.40\n",
              "9916    4.25\n",
              "Name: sEXT, Length: 9917, dtype: float64"
            ]
          },
          "metadata": {
            "tags": []
          },
          "execution_count": 52
        }
      ]
    },
    {
      "cell_type": "code",
      "metadata": {
        "id": "duGAkCpE9Bux"
      },
      "source": [
        "df = df.drop_duplicates(subset='#AUTHID')"
      ],
      "execution_count": null,
      "outputs": []
    },
    {
      "cell_type": "code",
      "metadata": {
        "colab": {
          "base_uri": "https://localhost:8080/",
          "height": 501
        },
        "id": "3Rk7okfReQEC",
        "outputId": "123d8548-7ce9-482a-c159-c2df46a57aa5"
      },
      "source": [
        "df.head()"
      ],
      "execution_count": null,
      "outputs": [
        {
          "output_type": "execute_result",
          "data": {
            "text/html": [
              "<div>\n",
              "<style scoped>\n",
              "    .dataframe tbody tr th:only-of-type {\n",
              "        vertical-align: middle;\n",
              "    }\n",
              "\n",
              "    .dataframe tbody tr th {\n",
              "        vertical-align: top;\n",
              "    }\n",
              "\n",
              "    .dataframe thead th {\n",
              "        text-align: right;\n",
              "    }\n",
              "</style>\n",
              "<table border=\"1\" class=\"dataframe\">\n",
              "  <thead>\n",
              "    <tr style=\"text-align: right;\">\n",
              "      <th></th>\n",
              "      <th>#AUTHID</th>\n",
              "      <th>STATUS</th>\n",
              "      <th>sEXT</th>\n",
              "      <th>sNEU</th>\n",
              "      <th>sAGR</th>\n",
              "      <th>sCON</th>\n",
              "      <th>sOPN</th>\n",
              "      <th>cEXT</th>\n",
              "      <th>cNEU</th>\n",
              "      <th>cAGR</th>\n",
              "      <th>cCON</th>\n",
              "      <th>cOPN</th>\n",
              "      <th>DATE</th>\n",
              "      <th>NETWORKSIZE</th>\n",
              "      <th>BETWEENNESS</th>\n",
              "      <th>NBETWEENNESS</th>\n",
              "      <th>DENSITY</th>\n",
              "      <th>BROKERAGE</th>\n",
              "      <th>NBROKERAGE</th>\n",
              "      <th>TRANSITIVITY</th>\n",
              "    </tr>\n",
              "  </thead>\n",
              "  <tbody>\n",
              "    <tr>\n",
              "      <th>0</th>\n",
              "      <td>b7b7764cfa1c523e4e93ab2a79a946c4</td>\n",
              "      <td>likes the sound of thunder.</td>\n",
              "      <td>2.65</td>\n",
              "      <td>3.00</td>\n",
              "      <td>3.15</td>\n",
              "      <td>3.25</td>\n",
              "      <td>4.40</td>\n",
              "      <td>n</td>\n",
              "      <td>y</td>\n",
              "      <td>n</td>\n",
              "      <td>n</td>\n",
              "      <td>y</td>\n",
              "      <td>06/19/09 03:21 PM</td>\n",
              "      <td>180.0</td>\n",
              "      <td>14861.6</td>\n",
              "      <td>93.29</td>\n",
              "      <td>0.03</td>\n",
              "      <td>15661.0</td>\n",
              "      <td>0.49</td>\n",
              "      <td>0.10</td>\n",
              "    </tr>\n",
              "    <tr>\n",
              "      <th>102</th>\n",
              "      <td>318bf822d4f2bd3920367560218619c0</td>\n",
              "      <td>has bed bugs..... ewwwww!</td>\n",
              "      <td>4.50</td>\n",
              "      <td>4.00</td>\n",
              "      <td>3.00</td>\n",
              "      <td>4.50</td>\n",
              "      <td>3.75</td>\n",
              "      <td>y</td>\n",
              "      <td>y</td>\n",
              "      <td>n</td>\n",
              "      <td>y</td>\n",
              "      <td>n</td>\n",
              "      <td>06/27/09 11:21 PM</td>\n",
              "      <td>318.0</td>\n",
              "      <td>49024.8</td>\n",
              "      <td>97.88</td>\n",
              "      <td>0.02</td>\n",
              "      <td>49584.0</td>\n",
              "      <td>0.49</td>\n",
              "      <td>0.06</td>\n",
              "    </tr>\n",
              "    <tr>\n",
              "      <th>171</th>\n",
              "      <td>ecbddbfe00e0f83cfdb802a7186061c7</td>\n",
              "      <td>is stuck on Band-Aid brand, cuz Band-Aid's stu...</td>\n",
              "      <td>4.30</td>\n",
              "      <td>2.15</td>\n",
              "      <td>3.60</td>\n",
              "      <td>3.30</td>\n",
              "      <td>4.10</td>\n",
              "      <td>y</td>\n",
              "      <td>n</td>\n",
              "      <td>y</td>\n",
              "      <td>n</td>\n",
              "      <td>y</td>\n",
              "      <td>06/28/09 05:03 AM</td>\n",
              "      <td>739.0</td>\n",
              "      <td>267574.0</td>\n",
              "      <td>98.39</td>\n",
              "      <td>0.01</td>\n",
              "      <td>270029.0</td>\n",
              "      <td>0.50</td>\n",
              "      <td>0.07</td>\n",
              "    </tr>\n",
              "    <tr>\n",
              "      <th>236</th>\n",
              "      <td>db39f7b2aad360b1033ec1f8fcd57f9c</td>\n",
              "      <td>Back from vacation and tired</td>\n",
              "      <td>4.65</td>\n",
              "      <td>3.20</td>\n",
              "      <td>3.05</td>\n",
              "      <td>3.65</td>\n",
              "      <td>4.75</td>\n",
              "      <td>y</td>\n",
              "      <td>y</td>\n",
              "      <td>n</td>\n",
              "      <td>y</td>\n",
              "      <td>y</td>\n",
              "      <td>07/15/09 10:59 PM</td>\n",
              "      <td>102.0</td>\n",
              "      <td>4359.8</td>\n",
              "      <td>86.33</td>\n",
              "      <td>0.09</td>\n",
              "      <td>4668.0</td>\n",
              "      <td>0.46</td>\n",
              "      <td>0.36</td>\n",
              "    </tr>\n",
              "    <tr>\n",
              "      <th>246</th>\n",
              "      <td>4d035bd3fd8d9595d15cea9e388964be</td>\n",
              "      <td>had a great day at church...</td>\n",
              "      <td>3.70</td>\n",
              "      <td>2.90</td>\n",
              "      <td>3.40</td>\n",
              "      <td>3.35</td>\n",
              "      <td>4.05</td>\n",
              "      <td>y</td>\n",
              "      <td>y</td>\n",
              "      <td>n</td>\n",
              "      <td>n</td>\n",
              "      <td>y</td>\n",
              "      <td>07/19/09 05:40 PM</td>\n",
              "      <td>57.0</td>\n",
              "      <td>1509.5</td>\n",
              "      <td>98.02</td>\n",
              "      <td>0.05</td>\n",
              "      <td>1522.0</td>\n",
              "      <td>0.49</td>\n",
              "      <td>0.03</td>\n",
              "    </tr>\n",
              "  </tbody>\n",
              "</table>\n",
              "</div>"
            ],
            "text/plain": [
              "                              #AUTHID  ... TRANSITIVITY\n",
              "0    b7b7764cfa1c523e4e93ab2a79a946c4  ...         0.10\n",
              "102  318bf822d4f2bd3920367560218619c0  ...         0.06\n",
              "171  ecbddbfe00e0f83cfdb802a7186061c7  ...         0.07\n",
              "236  db39f7b2aad360b1033ec1f8fcd57f9c  ...         0.36\n",
              "246  4d035bd3fd8d9595d15cea9e388964be  ...         0.03\n",
              "\n",
              "[5 rows x 20 columns]"
            ]
          },
          "metadata": {
            "tags": []
          },
          "execution_count": 54
        }
      ]
    },
    {
      "cell_type": "code",
      "metadata": {
        "colab": {
          "base_uri": "https://localhost:8080/",
          "height": 279
        },
        "id": "JcoBI31h93dY",
        "outputId": "d1dfa541-ef12-41d1-c2fe-46cfcd087cb1"
      },
      "source": [
        "sns.kdeplot(df['NETWORKSIZE']);"
      ],
      "execution_count": null,
      "outputs": [
        {
          "output_type": "display_data",
          "data": {
            "image/png": "[encoded data removed]",
            "text/plain": [
              "<Figure size 432x288 with 1 Axes>"
            ]
          },
          "metadata": {
            "tags": [],
            "needs_background": "light"
          }
        }
      ]
    },
    {
      "cell_type": "code",
      "metadata": {
        "colab": {
          "base_uri": "https://localhost:8080/"
        },
        "id": "tT6QDlnl93gP",
        "outputId": "fbd04dfe-b0b1-450e-8508-6014b68c06b9"
      },
      "source": [
        "np.median(df['NETWORKSIZE'])"
      ],
      "execution_count": null,
      "outputs": [
        {
          "output_type": "execute_result",
          "data": {
            "text/plain": [
              "315.0"
            ]
          },
          "metadata": {
            "tags": []
          },
          "execution_count": 56
        }
      ]
    },
    {
      "cell_type": "code",
      "metadata": {
        "colab": {
          "base_uri": "https://localhost:8080/"
        },
        "id": "td1gF3Ekdpnl",
        "outputId": "2488c026-bce8-4f42-fdd7-1d68dd746757"
      },
      "source": [
        "rho, p = pearsonr(df['sEXT'], df['NETWORKSIZE'])\n",
        "rho, p"
      ],
      "execution_count": null,
      "outputs": [
        {
          "output_type": "execute_result",
          "data": {
            "text/plain": [
              "(0.3621394116038834, 3.664654662842724e-09)"
            ]
          },
          "metadata": {
            "tags": []
          },
          "execution_count": 57
        }
      ]
    },
    {
      "cell_type": "code",
      "metadata": {
        "id": "u8kQDLYK93is",
        "colab": {
          "base_uri": "https://localhost:8080/",
          "height": 35
        },
        "outputId": "d6bab78b-23b2-47c7-cc41-074150a58206"
      },
      "source": [
        "f'{p:.10f}'"
      ],
      "execution_count": null,
      "outputs": [
        {
          "output_type": "execute_result",
          "data": {
            "application/vnd.google.colaboratory.intrinsic+json": {
              "type": "string"
            },
            "text/plain": [
              "'0.0000000037'"
            ]
          },
          "metadata": {
            "tags": []
          },
          "execution_count": 60
        }
      ]
    },
    {
      "cell_type": "code",
      "metadata": {
        "id": "sBOkIi5udriq",
        "colab": {
          "base_uri": "https://localhost:8080/"
        },
        "outputId": "51ea5420-f99c-45ca-882c-4188b45178ea"
      },
      "source": [
        "# Neuroticismo\n",
        "pearsonr(df['sNEU'], df['NETWORKSIZE'])"
      ],
      "execution_count": null,
      "outputs": [
        {
          "output_type": "execute_result",
          "data": {
            "text/plain": [
              "(-0.18020241658633415, 0.004257725510543998)"
            ]
          },
          "metadata": {
            "tags": []
          },
          "execution_count": 61
        }
      ]
    },
    {
      "cell_type": "code",
      "metadata": {
        "id": "JqN5qpopek3H",
        "colab": {
          "base_uri": "https://localhost:8080/"
        },
        "outputId": "84ecf551-6ec4-4a0e-e404-61a0cc9ebb15"
      },
      "source": [
        "# Amabilidad\n",
        "pearsonr(df['sAGR'], df['NETWORKSIZE'])"
      ],
      "execution_count": null,
      "outputs": [
        {
          "output_type": "execute_result",
          "data": {
            "text/plain": [
              "(0.11133128697465432, 0.07892697855400191)"
            ]
          },
          "metadata": {
            "tags": []
          },
          "execution_count": 63
        }
      ]
    },
    {
      "cell_type": "code",
      "metadata": {
        "colab": {
          "base_uri": "https://localhost:8080/",
          "height": 609
        },
        "id": "Di0XGO6Kdme8",
        "outputId": "f5d0e741-673c-4d1e-a6a4-57aadfeaee70"
      },
      "source": [
        "fig = px.scatter(df, x=\"sEXT\", y=\"NETWORKSIZE\", trendline=\"ols\", trendline_color_override='red', title='Extroversión')\n",
        "fig.show();"
      ],
      "execution_count": null,
      "outputs": [
        {
          "output_type": "stream",
          "text": [
            "/usr/local/lib/python3.7/dist-packages/statsmodels/tools/_testing.py:19: FutureWarning:\n",
            "\n",
            "pandas.util.testing is deprecated. Use the functions in the public API at pandas.testing instead.\n",
            "\n"
          ],
          "name": "stderr"
        },
        {
          "output_type": "display_data",
          "data": {
            "text/html": [
              "<html>\n",
              "<head><meta charset=\"utf-8\" /></head>\n",
              "<body>\n",
              "    <div>\n",
              "            <script src=\"https://cdnjs.cloudflare.com/ajax/libs/mathjax/2.7.5/MathJax.js?config=TeX-AMS-MML_SVG\"></script><script type=\"text/javascript\">if (window.MathJax) {MathJax.Hub.Config({SVG: {font: \"STIX-Web\"}});}</script>\n",
              "                <script type=\"text/javascript\">window.PlotlyConfig = {MathJaxConfig: 'local'};</script>\n",
              "        <script src=\"https://cdn.plot.ly/plotly-latest.min.js\"></script>    \n",
              "            <div id=\"0a339138-74bb-43fa-8599-c465e10fbf15\" class=\"plotly-graph-div\" style=\"height:525px; width:100%;\"></div>\n",
              "            <script type=\"text/javascript\">\n",
              "                \n",
              "                    window.PLOTLYENV=window.PLOTLYENV || {};\n",
              "                    \n",
              "                if (document.getElementById(\"0a339138-74bb-43fa-8599-c465e10fbf15\")) {\n",
              "                    Plotly.newPlot(\n",
              "                        '0a339138-74bb-43fa-8599-c465e10fbf15',\n",
              "                        [{\"hoverlabel\": {\"namelength\": 0}, \"hovertemplate\": \"sEXT=%{x}<br>NETWORKSIZE=%{y}\", \"legendgroup\": \"\", \"marker\": {\"color\": \"#636efa\", \"symbol\": \"circle\"}, \"mode\": \"markers\", \"name\": \"\", \"showlegend\": false, \"type\": \"scatter\", \"x\": [2.65, 4.5, 4.3, 4.65, 3.7, 3.45, 3.15, 4.15, 3.65, 3.75, 3.35, 1.5, 3.25, 1.8, 3.55, 2.6, 3.35, 1.35, 3.15, 2.45, 4.1, 2.65, 4.3, 2.3, 4.5, 2.8, 2.45, 2.5, 2.9, 4.33, 2.55, 2.45, 4.2, 1.75, 2.0, 4.0, 3.4, 2.75, 4.0, 3.75, 2.05, 3.7, 3.6, 4.7, 4.55, 2.1, 4.2, 3.75, 4.5, 3.7, 3.6, 1.8, 1.8, 5.0, 3.5, 1.75, 4.0, 1.55, 2.7, 2.95, 3.7, 4.45, 3.0, 2.65, 3.25, 2.71, 4.25, 3.4, 3.8, 2.75, 2.7, 3.25, 2.7, 3.5, 3.3, 2.25, 3.75, 3.3, 2.1, 3.75, 2.9, 2.8, 3.5, 3.75, 3.3, 2.75, 4.5, 3.0, 3.55, 4.0, 4.75, 4.25, 2.0, 2.5, 3.7, 2.75, 4.75, 3.2, 2.75, 3.84, 2.35, 4.5, 3.65, 3.0, 5.0, 4.13, 3.2, 4.5, 2.95, 2.7, 3.0, 3.5, 3.1, 3.6, 3.0, 4.33, 4.5, 4.15, 3.25, 2.45, 3.75, 4.25, 4.15, 1.95, 4.0, 4.75, 3.8, 2.63, 4.5, 2.4, 4.5, 4.0, 1.6, 4.2, 3.0, 2.9, 1.75, 3.0, 3.05, 2.6, 2.9, 2.38, 3.25, 3.65, 2.55, 2.75, 3.0, 2.9, 3.2, 2.5, 4.6, 4.5, 4.65, 3.25, 4.0, 3.35, 2.55, 2.15, 2.25, 2.65, 3.25, 3.45, 3.5, 4.6, 1.33, 2.25, 3.25, 4.5, 4.0, 3.4, 3.65, 3.0, 4.6, 3.7, 4.75, 2.35, 3.4, 1.75, 3.45, 3.4, 3.4, 4.05, 4.55, 2.5, 1.9, 3.05, 3.5, 3.84, 4.5, 2.35, 3.45, 4.35, 3.25, 4.95, 3.35, 2.4, 1.7, 2.45, 2.75, 4.05, 3.4, 3.9, 4.5, 3.65, 3.68, 4.35, 2.6, 3.13, 2.85, 3.6, 2.85, 4.75, 2.25, 2.85, 3.4, 2.05, 4.38, 3.55, 3.5, 4.05, 1.9, 1.95, 2.15, 3.3, 2.35, 3.17, 3.6, 3.25, 4.0, 3.3, 2.9, 3.5, 2.4, 4.25, 2.8, 2.2, 1.85, 4.25, 2.75, 4.75, 3.2, 2.75, 4.75, 3.25, 2.45, 3.7, 2.15, 4.05, 1.4, 4.25], \"xaxis\": \"x\", \"y\": [180.0, 318.0, 739.0, 102.0, 57.0, 122.0, 75.0, 950.0, 475.0, 251.0, 789.0, 223.0, 671.0, 89.0, 379.0, 139.0, 431.0, 99.0, 255.0, 130.0, 947.0, 446.0, 494.0, 297.0, 535.0, 340.0, 285.0, 356.0, 222.0, 145.0, 145.0, 633.0, 332.0, 50.0, 628.0, 89.0, 1225.0, 731.0, 899.0, 376.0, 322.0, 385.0, 644.0, 457.0, 254.0, 307.0, 294.0, 289.0, 369.0, 1264.0, 290.0, 198.0, 171.0, 326.0, 241.0, 177.0, 464.0, 265.0, 102.0, 802.0, 216.0, 315.0, 1596.0, 245.0, 146.0, 731.0, 317.0, 209.0, 58.0, 270.0, 135.0, 335.0, 312.0, 306.0, 1460.0, 300.0, 775.0, 381.0, 573.0, 332.0, 354.0, 463.0, 256.0, 1350.0, 196.0, 258.0, 606.0, 134.0, 77.0, 959.0, 699.0, 900.0, 721.0, 239.0, 29.0, 160.0, 289.0, 222.0, 332.0, 254.0, 115.0, 676.0, 112.0, 431.0, 855.0, 694.0, 188.0, 822.0, 689.0, 177.0, 315.0, 562.0, 758.0, 804.0, 493.0, 654.0, 845.0, 714.0, 549.0, 1560.0, 278.0, 298.0, 298.0, 686.0, 631.0, 1091.0, 622.0, 267.0, 1151.0, 313.0, 965.0, 241.0, 159.0, 907.0, 459.0, 72.0, 91.0, 512.0, 144.0, 126.0, 414.0, 82.0, 169.0, 41.0, 81.0, 440.0, 77.0, 24.0, 565.0, 159.0, 775.0, 826.0, 175.0, 486.0, 302.0, 322.0, 436.0, 127.0, 1098.0, 313.0, 457.0, 95.0, 243.0, 1118.0, 85.0, 361.0, 216.0, 962.0, 559.0, 238.0, 138.0, 236.0, 1071.0, 187.0, 477.0, 361.0, 497.0, 99.0, 831.0, 278.0, 374.0, 46.0, 405.0, 381.0, 56.0, 367.0, 139.0, 584.0, 1043.0, 457.0, 695.0, 40.0, 277.0, 378.0, 144.0, 167.0, 197.0, 119.0, 262.0, 563.0, 266.0, 1267.0, 288.0, 322.0, 419.0, 595.0, 294.0, 333.0, 194.0, 174.0, 176.0, 1323.0, 38.0, 175.0, 274.0, 134.0, 622.0, 257.0, 413.0, 1226.0, 141.0, 415.0, 84.0, 253.0, 213.0, 343.0, 295.0, 443.0, 329.0, 714.0, 478.0, 61.0, 166.0, 955.0, 436.0, 94.0, 542.0, 321.0, 70.0, 447.0, 149.0, 161.0, 325.0, 231.0, 65.0, 451.0, 36.0, 83.0, 154.0, 539.0], \"yaxis\": \"y\"}, {\"hoverlabel\": {\"namelength\": 0}, \"hovertemplate\": \"<b>OLS trendline</b><br>NETWORKSIZE = 133.121422 * sEXT + -30.239697<br>R<sup>2</sup>=0.131145<br><br>sEXT=%{x}<br>NETWORKSIZE=%{y} <b>(trend)</b>\", \"legendgroup\": \"\", \"line\": {\"color\": \"red\"}, \"marker\": {\"color\": \"#636efa\", \"symbol\": \"circle\"}, \"mode\": \"lines\", \"name\": \"\", \"showlegend\": false, \"type\": \"scatter\", \"x\": [1.33, 1.35, 1.4, 1.5, 1.55, 1.6, 1.7, 1.75, 1.75, 1.75, 1.75, 1.8, 1.8, 1.8, 1.85, 1.9, 1.9, 1.95, 1.95, 2.0, 2.0, 2.05, 2.05, 2.1, 2.1, 2.15, 2.15, 2.15, 2.2, 2.25, 2.25, 2.25, 2.25, 2.3, 2.35, 2.35, 2.35, 2.35, 2.38, 2.4, 2.4, 2.4, 2.45, 2.45, 2.45, 2.45, 2.45, 2.45, 2.5, 2.5, 2.5, 2.5, 2.55, 2.55, 2.55, 2.6, 2.6, 2.6, 2.63, 2.65, 2.65, 2.65, 2.65, 2.7, 2.7, 2.7, 2.7, 2.71, 2.75, 2.75, 2.75, 2.75, 2.75, 2.75, 2.75, 2.75, 2.75, 2.8, 2.8, 2.8, 2.85, 2.85, 2.85, 2.9, 2.9, 2.9, 2.9, 2.9, 2.9, 2.95, 2.95, 3.0, 3.0, 3.0, 3.0, 3.0, 3.0, 3.0, 3.0, 3.0, 3.05, 3.05, 3.1, 3.13, 3.15, 3.15, 3.17, 3.2, 3.2, 3.2, 3.2, 3.25, 3.25, 3.25, 3.25, 3.25, 3.25, 3.25, 3.25, 3.25, 3.25, 3.25, 3.3, 3.3, 3.3, 3.3, 3.3, 3.35, 3.35, 3.35, 3.35, 3.4, 3.4, 3.4, 3.4, 3.4, 3.4, 3.4, 3.4, 3.45, 3.45, 3.45, 3.45, 3.5, 3.5, 3.5, 3.5, 3.5, 3.5, 3.5, 3.5, 3.55, 3.55, 3.55, 3.6, 3.6, 3.6, 3.6, 3.6, 3.65, 3.65, 3.65, 3.65, 3.65, 3.68, 3.7, 3.7, 3.7, 3.7, 3.7, 3.7, 3.7, 3.75, 3.75, 3.75, 3.75, 3.75, 3.75, 3.75, 3.8, 3.8, 3.84, 3.84, 3.9, 4.0, 4.0, 4.0, 4.0, 4.0, 4.0, 4.0, 4.0, 4.0, 4.05, 4.05, 4.05, 4.05, 4.1, 4.13, 4.15, 4.15, 4.15, 4.2, 4.2, 4.2, 4.25, 4.25, 4.25, 4.25, 4.25, 4.25, 4.3, 4.3, 4.33, 4.33, 4.35, 4.35, 4.38, 4.45, 4.5, 4.5, 4.5, 4.5, 4.5, 4.5, 4.5, 4.5, 4.5, 4.5, 4.5, 4.5, 4.5, 4.55, 4.55, 4.6, 4.6, 4.6, 4.65, 4.65, 4.7, 4.75, 4.75, 4.75, 4.75, 4.75, 4.75, 4.75, 4.95, 5.0, 5.0], \"xaxis\": \"x\", \"y\": [146.81179487362337, 149.47422331965498, 156.13029443473397, 169.442436664892, 176.09850777997102, 182.75457889505003, 196.06672112520803, 202.72279224028705, 202.72279224028705, 202.72279224028705, 202.72279224028705, 209.37886335536606, 209.37886335536606, 209.37886335536606, 216.03493447044508, 222.69100558552407, 222.69100558552407, 229.34707670060305, 229.34707670060305, 236.0031478156821, 236.0031478156821, 242.65921893076109, 242.65921893076109, 249.31529004584013, 249.31529004584013, 255.97136116091912, 255.97136116091912, 255.97136116091912, 262.62743227599816, 269.28350339107715, 269.28350339107715, 269.28350339107715, 269.28350339107715, 275.93957450615613, 282.5956456212352, 282.5956456212352, 282.5956456212352, 282.5956456212352, 286.5892882902826, 289.25171673631417, 289.25171673631417, 289.25171673631417, 295.9077878513932, 295.9077878513932, 295.9077878513932, 295.9077878513932, 295.9077878513932, 295.9077878513932, 302.5638589664722, 302.5638589664722, 302.5638589664722, 302.5638589664722, 309.2199300815512, 309.2199300815512, 309.2199300815512, 315.8760011966302, 315.8760011966302, 315.8760011966302, 319.86964386567763, 322.5320723117092, 322.5320723117092, 322.5320723117092, 322.5320723117092, 329.18814342678826, 329.18814342678826, 329.18814342678826, 329.18814342678826, 330.519357649804, 335.84421454186725, 335.84421454186725, 335.84421454186725, 335.84421454186725, 335.84421454186725, 335.84421454186725, 335.84421454186725, 335.84421454186725, 335.84421454186725, 342.50028565694623, 342.50028565694623, 342.50028565694623, 349.1563567720253, 349.1563567720253, 349.1563567720253, 355.81242788710426, 355.81242788710426, 355.81242788710426, 355.81242788710426, 355.81242788710426, 355.81242788710426, 362.4684990021833, 362.4684990021833, 369.1245701172623, 369.1245701172623, 369.1245701172623, 369.1245701172623, 369.1245701172623, 369.1245701172623, 369.1245701172623, 369.1245701172623, 369.1245701172623, 375.7806412323413, 375.7806412323413, 382.4367123474203, 386.43035501646773, 389.0927834624993, 389.0927834624993, 391.7552119085309, 395.74885457757836, 395.74885457757836, 395.74885457757836, 395.74885457757836, 402.40492569265734, 402.40492569265734, 402.40492569265734, 402.40492569265734, 402.40492569265734, 402.40492569265734, 402.40492569265734, 402.40492569265734, 402.40492569265734, 402.40492569265734, 402.40492569265734, 409.06099680773633, 409.06099680773633, 409.06099680773633, 409.06099680773633, 409.06099680773633, 415.7170679228154, 415.7170679228154, 415.7170679228154, 415.7170679228154, 422.37313903789436, 422.37313903789436, 422.37313903789436, 422.37313903789436, 422.37313903789436, 422.37313903789436, 422.37313903789436, 422.37313903789436, 429.0292101529734, 429.0292101529734, 429.0292101529734, 429.0292101529734, 435.6852812680524, 435.6852812680524, 435.6852812680524, 435.6852812680524, 435.6852812680524, 435.6852812680524, 435.6852812680524, 435.6852812680524, 442.3413523831314, 442.3413523831314, 442.3413523831314, 448.9974234982104, 448.9974234982104, 448.9974234982104, 448.9974234982104, 448.9974234982104, 455.6534946132894, 455.6534946132894, 455.6534946132894, 455.6534946132894, 455.6534946132894, 459.64713728233687, 462.30956572836845, 462.30956572836845, 462.30956572836845, 462.30956572836845, 462.30956572836845, 462.30956572836845, 462.30956572836845, 468.96563684344744, 468.96563684344744, 468.96563684344744, 468.96563684344744, 468.96563684344744, 468.96563684344744, 468.96563684344744, 475.62170795852643, 475.62170795852643, 480.94656485058965, 480.94656485058965, 488.9338501886844, 502.2459924188425, 502.2459924188425, 502.2459924188425, 502.2459924188425, 502.2459924188425, 502.2459924188425, 502.2459924188425, 502.2459924188425, 502.2459924188425, 508.9020635339214, 508.9020635339214, 508.9020635339214, 508.9020635339214, 515.5581346490004, 519.5517773180478, 522.2142057640796, 522.2142057640796, 522.2142057640796, 528.8702768791585, 528.8702768791585, 528.8702768791585, 535.5263479942375, 535.5263479942375, 535.5263479942375, 535.5263479942375, 535.5263479942375, 535.5263479942375, 542.1824191093165, 542.1824191093165, 546.1760617783639, 546.1760617783639, 548.8384902243954, 548.8384902243954, 552.8321328934429, 562.1506324545536, 568.8067035696325, 568.8067035696325, 568.8067035696325, 568.8067035696325, 568.8067035696325, 568.8067035696325, 568.8067035696325, 568.8067035696325, 568.8067035696325, 568.8067035696325, 568.8067035696325, 568.8067035696325, 568.8067035696325, 575.4627746847115, 575.4627746847115, 582.1188457997905, 582.1188457997905, 582.1188457997905, 588.7749169148697, 588.7749169148697, 595.4309880299486, 602.0870591450275, 602.0870591450275, 602.0870591450275, 602.0870591450275, 602.0870591450275, 602.0870591450275, 602.0870591450275, 628.7113436053437, 635.3674147204226, 635.3674147204226], \"yaxis\": \"y\"}],\n",
              "                        {\"legend\": {\"tracegroupgap\": 0}, \"template\": {\"data\": {\"bar\": [{\"error_x\": {\"color\": \"#2a3f5f\"}, \"error_y\": {\"color\": \"#2a3f5f\"}, \"marker\": {\"line\": {\"color\": \"#E5ECF6\", \"width\": 0.5}}, \"type\": \"bar\"}], \"barpolar\": [{\"marker\": {\"line\": {\"color\": \"#E5ECF6\", \"width\": 0.5}}, \"type\": \"barpolar\"}], \"carpet\": [{\"aaxis\": {\"endlinecolor\": \"#2a3f5f\", \"gridcolor\": \"white\", \"linecolor\": \"white\", \"minorgridcolor\": \"white\", \"startlinecolor\": \"#2a3f5f\"}, \"baxis\": {\"endlinecolor\": \"#2a3f5f\", \"gridcolor\": \"white\", \"linecolor\": \"white\", \"minorgridcolor\": \"white\", \"startlinecolor\": \"#2a3f5f\"}, \"type\": \"carpet\"}], \"choropleth\": [{\"colorbar\": {\"outlinewidth\": 0, \"ticks\": \"\"}, \"type\": \"choropleth\"}], \"contour\": [{\"colorbar\": {\"outlinewidth\": 0, \"ticks\": \"\"}, \"colorscale\": [[0.0, \"#0d0887\"], [0.1111111111111111, \"#46039f\"], [0.2222222222222222, \"#7201a8\"], [0.3333333333333333, \"#9c179e\"], [0.4444444444444444, \"#bd3786\"], [0.5555555555555556, \"#d8576b\"], [0.6666666666666666, \"#ed7953\"], [0.7777777777777778, \"#fb9f3a\"], [0.8888888888888888, \"#fdca26\"], [1.0, \"#f0f921\"]], \"type\": \"contour\"}], \"contourcarpet\": [{\"colorbar\": {\"outlinewidth\": 0, \"ticks\": \"\"}, \"type\": \"contourcarpet\"}], \"heatmap\": [{\"colorbar\": {\"outlinewidth\": 0, \"ticks\": \"\"}, \"colorscale\": [[0.0, \"#0d0887\"], [0.1111111111111111, \"#46039f\"], [0.2222222222222222, \"#7201a8\"], [0.3333333333333333, \"#9c179e\"], [0.4444444444444444, \"#bd3786\"], [0.5555555555555556, \"#d8576b\"], [0.6666666666666666, \"#ed7953\"], [0.7777777777777778, \"#fb9f3a\"], [0.8888888888888888, \"#fdca26\"], [1.0, \"#f0f921\"]], \"type\": \"heatmap\"}], \"heatmapgl\": [{\"colorbar\": {\"outlinewidth\": 0, \"ticks\": \"\"}, \"colorscale\": [[0.0, \"#0d0887\"], [0.1111111111111111, \"#46039f\"], [0.2222222222222222, \"#7201a8\"], [0.3333333333333333, \"#9c179e\"], [0.4444444444444444, \"#bd3786\"], [0.5555555555555556, \"#d8576b\"], [0.6666666666666666, \"#ed7953\"], [0.7777777777777778, \"#fb9f3a\"], [0.8888888888888888, \"#fdca26\"], [1.0, \"#f0f921\"]], \"type\": \"heatmapgl\"}], \"histogram\": [{\"marker\": {\"colorbar\": {\"outlinewidth\": 0, \"ticks\": \"\"}}, \"type\": \"histogram\"}], \"histogram2d\": [{\"colorbar\": {\"outlinewidth\": 0, \"ticks\": \"\"}, \"colorscale\": [[0.0, \"#0d0887\"], [0.1111111111111111, \"#46039f\"], [0.2222222222222222, \"#7201a8\"], [0.3333333333333333, \"#9c179e\"], [0.4444444444444444, \"#bd3786\"], [0.5555555555555556, \"#d8576b\"], [0.6666666666666666, \"#ed7953\"], [0.7777777777777778, \"#fb9f3a\"], [0.8888888888888888, \"#fdca26\"], [1.0, \"#f0f921\"]], \"type\": \"histogram2d\"}], \"histogram2dcontour\": [{\"colorbar\": {\"outlinewidth\": 0, \"ticks\": \"\"}, \"colorscale\": [[0.0, \"#0d0887\"], [0.1111111111111111, \"#46039f\"], [0.2222222222222222, \"#7201a8\"], [0.3333333333333333, \"#9c179e\"], [0.4444444444444444, \"#bd3786\"], [0.5555555555555556, \"#d8576b\"], [0.6666666666666666, \"#ed7953\"], [0.7777777777777778, \"#fb9f3a\"], [0.8888888888888888, \"#fdca26\"], [1.0, \"#f0f921\"]], \"type\": \"histogram2dcontour\"}], \"mesh3d\": [{\"colorbar\": {\"outlinewidth\": 0, \"ticks\": \"\"}, \"type\": \"mesh3d\"}], \"parcoords\": [{\"line\": {\"colorbar\": {\"outlinewidth\": 0, \"ticks\": \"\"}}, \"type\": \"parcoords\"}], \"pie\": [{\"automargin\": true, \"type\": \"pie\"}], \"scatter\": [{\"marker\": {\"colorbar\": {\"outlinewidth\": 0, \"ticks\": \"\"}}, \"type\": \"scatter\"}], \"scatter3d\": [{\"line\": {\"colorbar\": {\"outlinewidth\": 0, \"ticks\": \"\"}}, \"marker\": {\"colorbar\": {\"outlinewidth\": 0, \"ticks\": \"\"}}, \"type\": \"scatter3d\"}], \"scattercarpet\": [{\"marker\": {\"colorbar\": {\"outlinewidth\": 0, \"ticks\": \"\"}}, \"type\": \"scattercarpet\"}], \"scattergeo\": [{\"marker\": {\"colorbar\": {\"outlinewidth\": 0, \"ticks\": \"\"}}, \"type\": \"scattergeo\"}], \"scattergl\": [{\"marker\": {\"colorbar\": {\"outlinewidth\": 0, \"ticks\": \"\"}}, \"type\": \"scattergl\"}], \"scattermapbox\": [{\"marker\": {\"colorbar\": {\"outlinewidth\": 0, \"ticks\": \"\"}}, \"type\": \"scattermapbox\"}], \"scatterpolar\": [{\"marker\": {\"colorbar\": {\"outlinewidth\": 0, \"ticks\": \"\"}}, \"type\": \"scatterpolar\"}], \"scatterpolargl\": [{\"marker\": {\"colorbar\": {\"outlinewidth\": 0, \"ticks\": \"\"}}, \"type\": \"scatterpolargl\"}], \"scatterternary\": [{\"marker\": {\"colorbar\": {\"outlinewidth\": 0, \"ticks\": \"\"}}, \"type\": \"scatterternary\"}], \"surface\": [{\"colorbar\": {\"outlinewidth\": 0, \"ticks\": \"\"}, \"colorscale\": [[0.0, \"#0d0887\"], [0.1111111111111111, \"#46039f\"], [0.2222222222222222, \"#7201a8\"], [0.3333333333333333, \"#9c179e\"], [0.4444444444444444, \"#bd3786\"], [0.5555555555555556, \"#d8576b\"], [0.6666666666666666, \"#ed7953\"], [0.7777777777777778, \"#fb9f3a\"], [0.8888888888888888, \"#fdca26\"], [1.0, \"#f0f921\"]], \"type\": \"surface\"}], \"table\": [{\"cells\": {\"fill\": {\"color\": \"#EBF0F8\"}, \"line\": {\"color\": \"white\"}}, \"header\": {\"fill\": {\"color\": \"#C8D4E3\"}, \"line\": {\"color\": \"white\"}}, \"type\": \"table\"}]}, \"layout\": {\"annotationdefaults\": {\"arrowcolor\": \"#2a3f5f\", \"arrowhead\": 0, \"arrowwidth\": 1}, \"coloraxis\": {\"colorbar\": {\"outlinewidth\": 0, \"ticks\": \"\"}}, \"colorscale\": {\"diverging\": [[0, \"#8e0152\"], [0.1, \"#c51b7d\"], [0.2, \"#de77ae\"], [0.3, \"#f1b6da\"], [0.4, \"#fde0ef\"], [0.5, \"#f7f7f7\"], [0.6, \"#e6f5d0\"], [0.7, \"#b8e186\"], [0.8, \"#7fbc41\"], [0.9, \"#4d9221\"], [1, \"#276419\"]], \"sequential\": [[0.0, \"#0d0887\"], [0.1111111111111111, \"#46039f\"], [0.2222222222222222, \"#7201a8\"], [0.3333333333333333, \"#9c179e\"], [0.4444444444444444, \"#bd3786\"], [0.5555555555555556, \"#d8576b\"], [0.6666666666666666, \"#ed7953\"], [0.7777777777777778, \"#fb9f3a\"], [0.8888888888888888, \"#fdca26\"], [1.0, \"#f0f921\"]], \"sequentialminus\": [[0.0, \"#0d0887\"], [0.1111111111111111, \"#46039f\"], [0.2222222222222222, \"#7201a8\"], [0.3333333333333333, \"#9c179e\"], [0.4444444444444444, \"#bd3786\"], [0.5555555555555556, \"#d8576b\"], [0.6666666666666666, \"#ed7953\"], [0.7777777777777778, \"#fb9f3a\"], [0.8888888888888888, \"#fdca26\"], [1.0, \"#f0f921\"]]}, \"colorway\": [\"#636efa\", \"#EF553B\", \"#00cc96\", \"#ab63fa\", \"#FFA15A\", \"#19d3f3\", \"#FF6692\", \"#B6E880\", \"#FF97FF\", \"#FECB52\"], \"font\": {\"color\": \"#2a3f5f\"}, \"geo\": {\"bgcolor\": \"white\", \"lakecolor\": \"white\", \"landcolor\": \"#E5ECF6\", \"showlakes\": true, \"showland\": true, \"subunitcolor\": \"white\"}, \"hoverlabel\": {\"align\": \"left\"}, \"hovermode\": \"closest\", \"mapbox\": {\"style\": \"light\"}, \"paper_bgcolor\": \"white\", \"plot_bgcolor\": \"#E5ECF6\", \"polar\": {\"angularaxis\": {\"gridcolor\": \"white\", \"linecolor\": \"white\", \"ticks\": \"\"}, \"bgcolor\": \"#E5ECF6\", \"radialaxis\": {\"gridcolor\": \"white\", \"linecolor\": \"white\", \"ticks\": \"\"}}, \"scene\": {\"xaxis\": {\"backgroundcolor\": \"#E5ECF6\", \"gridcolor\": \"white\", \"gridwidth\": 2, \"linecolor\": \"white\", \"showbackground\": true, \"ticks\": \"\", \"zerolinecolor\": \"white\"}, \"yaxis\": {\"backgroundcolor\": \"#E5ECF6\", \"gridcolor\": \"white\", \"gridwidth\": 2, \"linecolor\": \"white\", \"showbackground\": true, \"ticks\": \"\", \"zerolinecolor\": \"white\"}, \"zaxis\": {\"backgroundcolor\": \"#E5ECF6\", \"gridcolor\": \"white\", \"gridwidth\": 2, \"linecolor\": \"white\", \"showbackground\": true, \"ticks\": \"\", \"zerolinecolor\": \"white\"}}, \"shapedefaults\": {\"line\": {\"color\": \"#2a3f5f\"}}, \"ternary\": {\"aaxis\": {\"gridcolor\": \"white\", \"linecolor\": \"white\", \"ticks\": \"\"}, \"baxis\": {\"gridcolor\": \"white\", \"linecolor\": \"white\", \"ticks\": \"\"}, \"bgcolor\": \"#E5ECF6\", \"caxis\": {\"gridcolor\": \"white\", \"linecolor\": \"white\", \"ticks\": \"\"}}, \"title\": {\"x\": 0.05}, \"xaxis\": {\"automargin\": true, \"gridcolor\": \"white\", \"linecolor\": \"white\", \"ticks\": \"\", \"title\": {\"standoff\": 15}, \"zerolinecolor\": \"white\", \"zerolinewidth\": 2}, \"yaxis\": {\"automargin\": true, \"gridcolor\": \"white\", \"linecolor\": \"white\", \"ticks\": \"\", \"title\": {\"standoff\": 15}, \"zerolinecolor\": \"white\", \"zerolinewidth\": 2}}}, \"title\": {\"text\": \"Extroversi\\u00f3n\"}, \"xaxis\": {\"anchor\": \"y\", \"domain\": [0.0, 1.0], \"title\": {\"text\": \"sEXT\"}}, \"yaxis\": {\"anchor\": \"x\", \"domain\": [0.0, 1.0], \"title\": {\"text\": \"NETWORKSIZE\"}}},\n",
              "                        {\"responsive\": true}\n",
              "                    ).then(function(){\n",
              "                            \n",
              "var gd = document.getElementById('0a339138-74bb-43fa-8599-c465e10fbf15');\n",
              "var x = new MutationObserver(function (mutations, observer) {{\n",
              "        var display = window.getComputedStyle(gd).display;\n",
              "        if (!display || display === 'none') {{\n",
              "            console.log([gd, 'removed!']);\n",
              "            Plotly.purge(gd);\n",
              "            observer.disconnect();\n",
              "        }}\n",
              "}});\n",
              "\n",
              "// Listen for the removal of the full notebook cells\n",
              "var notebookContainer = gd.closest('#notebook-container');\n",
              "if (notebookContainer) {{\n",
              "    x.observe(notebookContainer, {childList: true});\n",
              "}}\n",
              "\n",
              "// Listen for the clearing of the current output cell\n",
              "var outputEl = gd.closest('.output');\n",
              "if (outputEl) {{\n",
              "    x.observe(outputEl, {childList: true});\n",
              "}}\n",
              "\n",
              "                        })\n",
              "                };\n",
              "                \n",
              "            </script>\n",
              "        </div>\n",
              "</body>\n",
              "</html>"
            ]
          },
          "metadata": {
            "tags": []
          }
        }
      ]
    },
    {
      "cell_type": "code",
      "metadata": {
        "id": "kTzZr6yXSvZZ"
      },
      "source": [
        ""
      ],
      "execution_count": null,
      "outputs": []
    },
    {
      "cell_type": "markdown",
      "metadata": {
        "id": "auManaRoL2aC"
      },
      "source": [
        "# Vectores"
      ]
    },
    {
      "cell_type": "markdown",
      "metadata": {
        "id": "wMjCFqqELRd_"
      },
      "source": [
        "## Definición\n",
        "\n",
        "Un vector es una cantidad definida por una magnitud y una dirección. Por ejemplo, la velocidad de un cohete es un vector tridimensional: su magnitud es la velocidad del cohete y su dirección es (con suerte) hacia arriba. Un vector se puede representar mediante una matriz de números llamados *escalares*. Cada escalar corresponde a la magnitud del vector con respecto a cada dimensión.\n",
        "\n",
        "Por ejemplo, digamos que el cohete sube en un ligero ángulo: tiene una velocidad vertical de 5.000 m/s, y también una ligera velocidad hacia el Este a 10 m/s, y una ligera velocidad hacia el Norte a 50 m/s. La velocidad del cohete se puede representar mediante el siguiente vector:\n",
        "\n",
        "**velocidad** $= \\begin{pmatrix}\n",
        "10 \\\\\n",
        "50 \\\\\n",
        "5000 \\\\\n",
        "\\end{pmatrix}$\n",
        "\n",
        "Nota: por convención, los vectores generalmente se presentan en forma de columnas. Además, los nombres de los vectores generalmente están en minúsculas para distinguirlos de las matrices (que discutiremos a continuación) y en negrita (cuando sea posible) para distinguirlos de valores escalares simples como ${metros\\_per\\_segundo} = 5026$.\n",
        "\n",
        "Una lista de N números también puede representar las coordenadas de un punto en un espacio de N dimensiones, por lo que es bastante frecuente representar vectores como puntos simples en lugar de flechas. Un vector con 1 elemento puede representarse como una flecha o un punto en un eje, un vector con 2 elementos es una flecha o un punto en un plano, un vector con 3 elementos es una flecha o un punto en el espacio y un vector con N elementos es una flecha o un punto en un espacio de N dimensiones ... que la mayoría de la gente encuentra difícil de imaginar.\n",
        "\n",
        "\n",
        "##  Propósito\n",
        "\n",
        "Los vectores tienen muchos propósitos en Machine Learning, sobre todo para representar observaciones y predicciones. Por ejemplo, supongamos que creamos un sistema de aprendizaje automático para clasificar videos en 3 categorías(bueno, spam, clickbait) según lo que sabemos sobre ellos. Para cada video, tendríamos un vector que representa lo que sabemos sobre él, como por ejemplo:\n",
        "\n",
        "**video** $= \\begin{pmatrix}\n",
        "10.5 \\\\\n",
        "5.2 \\\\\n",
        "3.25 \\\\\n",
        "7.0\n",
        "\\end{pmatrix}$\n",
        "\n",
        "Este vector podría representar un video que dura 10.5 minutos, pero solo el 5.2% de los espectadores miran durante más de un minuto, obtiene 3.25 visualizaciones por día en promedio y se marcó 7 veces como spam. Como se puede ver, cada eje puede tener un significado diferente.\n",
        "\n",
        "Con base en este vector, nuestro sistema de aprendizaje automático puede predecir que existe un 80% de probabilidad de que sea un video spam, un 18% de que sea un clickbait y un 2% de que sea un buen video. Esto podría representarse como el siguiente vector:\n",
        "\n",
        "**class_probabilities** $= \\begin{pmatrix}\n",
        "0.80 \\\\\n",
        "0.18 \\\\\n",
        "0.02\n",
        "\\end{pmatrix}$"
      ]
    },
    {
      "cell_type": "markdown",
      "metadata": {
        "id": "Nn1lXSmxLRd_"
      },
      "source": [
        "## Vectores en python\n",
        "En Python, un vector se puede representar de muchas maneras, la más simple es una lista regular de números de Python:"
      ]
    },
    {
      "cell_type": "code",
      "metadata": {
        "id": "jv5nODk9LReA",
        "colab": {
          "base_uri": "https://localhost:8080/"
        },
        "outputId": "8ef2e2ae-537a-40c6-9980-51952600f216"
      },
      "source": [
        "[10.5, 5.2, 3.25, 7.0]"
      ],
      "execution_count": null,
      "outputs": [
        {
          "output_type": "execute_result",
          "data": {
            "text/plain": [
              "[10.5, 5.2, 3.25, 7.0]"
            ]
          },
          "metadata": {
            "tags": []
          },
          "execution_count": 65
        }
      ]
    },
    {
      "cell_type": "markdown",
      "metadata": {
        "id": "x4ebrli_LReB"
      },
      "source": [
        "Dado que planeamos hacer bastantes cálculos científicos, es mucho mejor usar `ndarray` de NumPy, que proporciona muchas implementaciones convenientes y optimizadas de operaciones matemáticas esenciales en vectores (para obtener más detalles sobre NumPy, consulte la [NumPy tutorial](tools_numpy.ipynb)). Por ejemplo:"
      ]
    },
    {
      "cell_type": "code",
      "metadata": {
        "id": "k6-XWsvKLReB",
        "colab": {
          "base_uri": "https://localhost:8080/"
        },
        "outputId": "fa269fdf-8c57-47ce-d3d2-2c36b7a9b867"
      },
      "source": [
        "import numpy as np\n",
        "\n",
        "video = np.array([10.5, 5.2, 3.25, 7.0])\n",
        "video"
      ],
      "execution_count": null,
      "outputs": [
        {
          "output_type": "execute_result",
          "data": {
            "text/plain": [
              "array([10.5 ,  5.2 ,  3.25,  7.  ])"
            ]
          },
          "metadata": {
            "tags": []
          },
          "execution_count": 66
        }
      ]
    },
    {
      "cell_type": "markdown",
      "metadata": {
        "id": "wjcSMDsKLReB"
      },
      "source": [
        "El tamaño de un vector se puede obtener usando el atributo `size`:"
      ]
    },
    {
      "cell_type": "code",
      "metadata": {
        "id": "ML6Eju2CLReB",
        "colab": {
          "base_uri": "https://localhost:8080/"
        },
        "outputId": "21005df8-5c26-4f3d-d9e6-cfcb6ac65edc"
      },
      "source": [
        "video.size"
      ],
      "execution_count": null,
      "outputs": [
        {
          "output_type": "execute_result",
          "data": {
            "text/plain": [
              "4"
            ]
          },
          "metadata": {
            "tags": []
          },
          "execution_count": 68
        }
      ]
    },
    {
      "cell_type": "markdown",
      "metadata": {
        "id": "K6lfQU-aLReC"
      },
      "source": [
        "El elemento $i^{th}$ (también llamado *entrada* o *elemento*; *entry* or *item*) de un vector $\\textbf{v}$ se anota $\\textbf{v}_i$.\n",
        "\n",
        "Tené en cuenta que los índices en matemáticas generalmente comienzan en 1, pero en programación generalmente comienzan en 0. Entonces, para acceder a $\\textbf{video}_3$ programáticamente, escribiríamos:"
      ]
    },
    {
      "cell_type": "code",
      "metadata": {
        "id": "z_F2o0-oLReC",
        "colab": {
          "base_uri": "https://localhost:8080/"
        },
        "outputId": "7ea5773b-d34f-4c41-af97-9cb1a926bdb8"
      },
      "source": [
        "video[2]  # Tercer elemento"
      ],
      "execution_count": null,
      "outputs": [
        {
          "output_type": "execute_result",
          "data": {
            "text/plain": [
              "3.25"
            ]
          },
          "metadata": {
            "tags": []
          },
          "execution_count": 70
        }
      ]
    },
    {
      "cell_type": "markdown",
      "metadata": {
        "id": "d8x2mHAkLReC"
      },
      "source": [
        "## \"Ploteando\" vectores\n",
        "\n",
        "Para graficar vamos a usar matplotlib. Para más detalles pueden consultar [este tutorial](tools_matplotlib.ipynb)):"
      ]
    },
    {
      "cell_type": "code",
      "metadata": {
        "id": "yC6K_xZWLReC"
      },
      "source": [
        "%matplotlib inline\n",
        "import matplotlib.pyplot as plt"
      ],
      "execution_count": null,
      "outputs": []
    },
    {
      "cell_type": "markdown",
      "metadata": {
        "id": "ptF34uuGLReD"
      },
      "source": [
        "### Vectores 2D\n",
        "\n",
        "Vamos a creer un par de vectores 2D muy simples para trazar:"
      ]
    },
    {
      "cell_type": "code",
      "metadata": {
        "collapsed": true,
        "jupyter": {
          "outputs_hidden": true
        },
        "id": "P7hmj_oSLReD"
      },
      "source": [
        "u = np.array([2, 5])\n",
        "v = np.array([3, 1])"
      ],
      "execution_count": null,
      "outputs": []
    },
    {
      "cell_type": "markdown",
      "metadata": {
        "id": "BcEZuibvLReD"
      },
      "source": [
        "Cada uno de estos vectores tiene 2 elementos, por lo que se pueden representar fácilmente gráficamente en un gráfico 2D, por ejemplo, como puntos:"
      ]
    },
    {
      "cell_type": "code",
      "metadata": {
        "id": "UiGSz8SnLReD",
        "colab": {
          "base_uri": "https://localhost:8080/",
          "height": 269
        },
        "outputId": "036ed833-e42b-46bb-b35a-419bfe807c37"
      },
      "source": [
        "x_coords, y_coords = zip(u, v)\n",
        "plt.scatter(x_coords, y_coords, color=[\"r\",\"b\"])\n",
        "plt.axis([0, 9, 0, 6])\n",
        "plt.grid()\n",
        "plt.show()"
      ],
      "execution_count": null,
      "outputs": [
        {
          "output_type": "display_data",
          "data": {
            "image/png": "[encoded data removed]",
            "text/plain": [
              "<Figure size 432x288 with 1 Axes>"
            ]
          },
          "metadata": {
            "tags": [],
            "needs_background": "light"
          }
        }
      ]
    },
    {
      "cell_type": "markdown",
      "metadata": {
        "id": "OHHfUCZqLReE"
      },
      "source": [
        "Los vectores también se pueden representar como flechas. Vamos a crear una pequeña función de conveniencia para dibujar flechas lindas:"
      ]
    },
    {
      "cell_type": "code",
      "metadata": {
        "id": "Ayil7qtuLReE"
      },
      "source": [
        "def plot_vector2d(vector2d, origin=[0, 0], **options):\n",
        "    return plt.arrow(origin[0], origin[1], vector2d[0], vector2d[1],\n",
        "              head_width=0.2, head_length=0.3, length_includes_head=True,\n",
        "              **options)"
      ],
      "execution_count": null,
      "outputs": []
    },
    {
      "cell_type": "markdown",
      "metadata": {
        "id": "AobS3rwrLReE"
      },
      "source": [
        "Ahora dibujemos los vectores **u** y **v** como flechas:"
      ]
    },
    {
      "cell_type": "code",
      "metadata": {
        "id": "f9aOaLrmLReE",
        "colab": {
          "base_uri": "https://localhost:8080/",
          "height": 269
        },
        "outputId": "22297300-8681-4d93-e0f9-c6cca7929da7"
      },
      "source": [
        "plot_vector2d(u, color=\"r\")\n",
        "plot_vector2d(v, color=\"b\")\n",
        "plt.axis([0, 9, 0, 6])\n",
        "plt.grid()\n",
        "plt.show()"
      ],
      "execution_count": null,
      "outputs": [
        {
          "output_type": "display_data",
          "data": {
            "image/png": "[encoded data removed]",
            "text/plain": [
              "<Figure size 432x288 with 1 Axes>"
            ]
          },
          "metadata": {
            "tags": [],
            "needs_background": "light"
          }
        }
      ]
    },
    {
      "cell_type": "code",
      "metadata": {
        "id": "0Hb8BsSuLysS"
      },
      "source": [
        ""
      ],
      "execution_count": null,
      "outputs": []
    },
    {
      "cell_type": "markdown",
      "metadata": {
        "id": "OGTnSJ2jLReG"
      },
      "source": [
        "## Norma\n",
        "La norma de un vector $\\textbf{u}$, anotado $\\left \\Vert \\textbf{u} \\right \\|$, es una medida de la longitud (también conocida como la magnitud) de $\\textbf{u}$. Hay múltiples normas posibles, pero la más común (y la única que discutiremos aquí) es la norma euclidiana, que se define como:\n",
        "\n",
        "$\\left \\Vert \\textbf{u} \\right \\| = \\sqrt{\\sum_{i}{\\textbf{u}_i}^2}$\n",
        "\n",
        "Podríamos implementar esto fácilmente en python puro, recordando que $\\sqrt x = x^{\\frac{1}{2}}$"
      ]
    },
    {
      "cell_type": "code",
      "metadata": {
        "id": "WcHcDZfCLReH",
        "colab": {
          "base_uri": "https://localhost:8080/"
        },
        "outputId": "c6240c16-2d19-41c5-c4b1-11739674ba15"
      },
      "source": [
        "def vector_norm(vector):\n",
        "    squares = [element**2 for element in vector]\n",
        "    return sum(squares)**0.5\n",
        "\n",
        "print(\"||\", u, \"|| =\")\n",
        "vector_norm(u)"
      ],
      "execution_count": null,
      "outputs": [
        {
          "output_type": "stream",
          "text": [
            "|| [2 5] || =\n"
          ],
          "name": "stdout"
        },
        {
          "output_type": "execute_result",
          "data": {
            "text/plain": [
              "5.385164807134504"
            ]
          },
          "metadata": {
            "tags": []
          },
          "execution_count": 81
        }
      ]
    },
    {
      "cell_type": "markdown",
      "metadata": {
        "id": "tir3r1kcLReH"
      },
      "source": [
        "Sin embargo, es mucho más eficiente usar la función `norm` de NumPy, disponible en el módulo` linalg` (**Lin**ear **Alg**ebra):"
      ]
    },
    {
      "cell_type": "code",
      "metadata": {
        "id": "NcXlSJ8TLReH",
        "colab": {
          "base_uri": "https://localhost:8080/"
        },
        "outputId": "a8a2e6ac-dadf-4a39-88bf-8b8cb9c2e7c6"
      },
      "source": [
        "import numpy.linalg as LA\n",
        "LA.norm(u)"
      ],
      "execution_count": null,
      "outputs": [
        {
          "output_type": "execute_result",
          "data": {
            "text/plain": [
              "5.385164807134504"
            ]
          },
          "metadata": {
            "tags": []
          },
          "execution_count": 82
        }
      ]
    },
    {
      "cell_type": "markdown",
      "metadata": {
        "id": "PSUQD11oLReH"
      },
      "source": [
        "Vamos a plotear un pequeño diagrama para confirmar que la longitud del vector $\\textbf{v}$ es de hecho $\\approx5.4$:\n",
        "\n"
      ]
    },
    {
      "cell_type": "code",
      "metadata": {
        "id": "IW42YvbCLReI",
        "colab": {
          "base_uri": "https://localhost:8080/",
          "height": 269
        },
        "outputId": "73025aaa-d57d-421c-97eb-1b4c9f1dc655"
      },
      "source": [
        "radius = LA.norm(u)\n",
        "plt.gca().add_artist(plt.Circle((0,0), radius, color=\"#DDDDDD\"))\n",
        "plot_vector2d(u, color=\"red\")\n",
        "plt.axis([0, 8.7, 0, 6])\n",
        "plt.grid()\n",
        "plt.show()"
      ],
      "execution_count": null,
      "outputs": [
        {
          "output_type": "display_data",
          "data": {
            "image/png": "[encoded data removed]",
            "text/plain": [
              "<Figure size 432x288 with 1 Axes>"
            ]
          },
          "metadata": {
            "tags": [],
            "needs_background": "light"
          }
        }
      ]
    },
    {
      "cell_type": "markdown",
      "metadata": {
        "id": "qRYLvkETLReI"
      },
      "source": [
        "¡Parece que está bien!"
      ]
    },
    {
      "cell_type": "markdown",
      "metadata": {
        "id": "QvjbGUUULReI"
      },
      "source": [
        "## Suma\n",
        "Vectores de la misma dimensión pueden ser sumados, elemento por elemento."
      ]
    },
    {
      "cell_type": "code",
      "metadata": {
        "id": "V1JnisgULReI",
        "colab": {
          "base_uri": "https://localhost:8080/"
        },
        "outputId": "30da534a-d61a-4414-ec0f-319f4a0b39fa"
      },
      "source": [
        "print(\" \", u)\n",
        "print(\"+\", v)\n",
        "print(\"-\"*10)\n",
        "u + v"
      ],
      "execution_count": null,
      "outputs": [
        {
          "output_type": "stream",
          "text": [
            "  [2 5]\n",
            "+ [3 1]\n",
            "----------\n"
          ],
          "name": "stdout"
        },
        {
          "output_type": "execute_result",
          "data": {
            "text/plain": [
              "array([5, 6])"
            ]
          },
          "metadata": {
            "tags": []
          },
          "execution_count": 84
        }
      ]
    },
    {
      "cell_type": "markdown",
      "metadata": {
        "id": "xOhGAhx5LReJ"
      },
      "source": [
        "Ilustremos como se ve:"
      ]
    },
    {
      "cell_type": "code",
      "metadata": {
        "scrolled": true,
        "id": "sd-iWo-ZLReJ",
        "colab": {
          "base_uri": "https://localhost:8080/",
          "height": 269
        },
        "cellView": "form",
        "outputId": "b19ca314-c74e-4b59-e8c4-63db6a910188"
      },
      "source": [
        "#@title Suma de vectores\n",
        "\n",
        "plot_vector2d(u, color=\"r\")\n",
        "plot_vector2d(v, color=\"b\")\n",
        "plot_vector2d(v, origin=u, color=\"b\", linestyle=\"dotted\")\n",
        "plot_vector2d(u, origin=v, color=\"r\", linestyle=\"dotted\")\n",
        "plot_vector2d(u+v, color=\"g\")\n",
        "plt.axis([0, 9, 0, 7])\n",
        "plt.text(0.7, 3, \"u\", color=\"r\", fontsize=18)\n",
        "plt.text(4, 3, \"u\", color=\"r\", fontsize=18)\n",
        "plt.text(1.8, 0.2, \"v\", color=\"b\", fontsize=18)\n",
        "plt.text(3.1, 5.6, \"v\", color=\"b\", fontsize=18)\n",
        "plt.text(2.4, 2.5, \"u+v\", color=\"g\", fontsize=18)\n",
        "plt.grid()\n",
        "plt.show()"
      ],
      "execution_count": null,
      "outputs": [
        {
          "output_type": "display_data",
          "data": {
            "image/png": "[encoded data removed]",
            "text/plain": [
              "<Figure size 432x288 with 1 Axes>"
            ]
          },
          "metadata": {
            "tags": [],
            "needs_background": "light"
          }
        }
      ]
    },
    {
      "cell_type": "markdown",
      "metadata": {
        "id": "8G3NTThbLReK"
      },
      "source": [
        "## Multiplicación por un escalar\n",
        "\n",
        "Podemos multiplicar un vector por un escalar"
      ]
    },
    {
      "cell_type": "code",
      "metadata": {
        "id": "jxWQFEzgLReK",
        "colab": {
          "base_uri": "https://localhost:8080/"
        },
        "outputId": "fdf99491-2436-4b3f-a53d-2eaf42a8f072"
      },
      "source": [
        "print(\"1.5 *\", u, \"=\")\n",
        "\n",
        "1.5 * u"
      ],
      "execution_count": null,
      "outputs": [
        {
          "output_type": "stream",
          "text": [
            "1.5 * [2 5] =\n"
          ],
          "name": "stdout"
        },
        {
          "output_type": "execute_result",
          "data": {
            "text/plain": [
              "array([3. , 7.5])"
            ]
          },
          "metadata": {
            "tags": []
          },
          "execution_count": 85
        }
      ]
    },
    {
      "cell_type": "markdown",
      "metadata": {
        "id": "hyEb1JyZLReK"
      },
      "source": [
        "La multiplicación por un escalar cambia la escala de la figura, por eso la nomenclatura.\n",
        "\n",
        "Probemos multiplicando por 2.5."
      ]
    },
    {
      "cell_type": "code",
      "metadata": {
        "id": "4BM9d_IILReK",
        "colab": {
          "base_uri": "https://localhost:8080/",
          "height": 269
        },
        "cellView": "form",
        "outputId": "b0a719f4-8919-4666-c994-f0ce853511df"
      },
      "source": [
        "#@title Multiplicación por escalar\n",
        "\n",
        "t1 = np.array([2, 0.25])\n",
        "t2 = np.array([2.5, 3.5])\n",
        "t3 = np.array([1, 2])\n",
        "x_coords, y_coords = zip(t1, t2, t3, t1)\n",
        "\n",
        "k = 2.5\n",
        "t1c = k * t1\n",
        "t2c = k * t2\n",
        "t3c = k * t3\n",
        "\n",
        "plt.plot(x_coords, y_coords, \"c--\", x_coords, y_coords, \"co\")\n",
        "\n",
        "plot_vector2d(t1, color=\"r\")\n",
        "plot_vector2d(t2, color=\"r\")\n",
        "plot_vector2d(t3, color=\"r\")\n",
        "\n",
        "x_coords_c, y_coords_c = zip(t1c, t2c, t3c, t1c)\n",
        "plt.plot(x_coords_c, y_coords_c, \"b-\", x_coords_c, y_coords_c, \"bo\")\n",
        "\n",
        "plot_vector2d(k * t1, color=\"b\", linestyle=\":\")\n",
        "plot_vector2d(k * t2, color=\"b\", linestyle=\":\")\n",
        "plot_vector2d(k * t3, color=\"b\", linestyle=\":\")\n",
        "\n",
        "plt.axis([0, 9, 0, 9])\n",
        "plt.grid()\n",
        "plt.show()"
      ],
      "execution_count": null,
      "outputs": [
        {
          "output_type": "display_data",
          "data": {
            "image/png": "[encoded data removed]",
            "text/plain": [
              "<Figure size 432x288 with 1 Axes>"
            ]
          },
          "metadata": {
            "tags": [],
            "needs_background": "light"
          }
        }
      ]
    },
    {
      "cell_type": "markdown",
      "metadata": {
        "id": "D_HL4cMolm2k"
      },
      "source": [
        "# Matrices\n",
        "\n",
        "Una matriz es una arreglo rectangular de escalares (cualquier número), ordenado en filas y columnas:\n",
        "\n",
        "\\begin{bmatrix} 10 & 20 & 30 \\\\ 40 & 50 & 60 \\end{bmatrix}\n",
        "\n",
        "Podemos pensar a una matriz como una lista de vectores. \n",
        "\n",
        "Las matrices son un modo conveniente y eficiente de aplicar operaciones sobre vectores, y representando transformaciones sobre los mismos como rotaciones, traslaciones o escalado. "
      ]
    },
    {
      "cell_type": "markdown",
      "metadata": {
        "id": "omzGjn2xLReP"
      },
      "source": [
        "## Matrices en Python\n",
        "\n",
        "\n",
        "Para representar una matriz, podemos usar una lista de listas:\n",
        "\n"
      ]
    },
    {
      "cell_type": "code",
      "metadata": {
        "id": "42PkQvGGLReP",
        "colab": {
          "base_uri": "https://localhost:8080/"
        },
        "outputId": "803bddef-02f8-48bb-ecaa-513f1a27a156"
      },
      "source": [
        "[\n",
        "    [10, 20, 30],\n",
        "    [40, 50, 60]\n",
        "]"
      ],
      "execution_count": null,
      "outputs": [
        {
          "output_type": "execute_result",
          "data": {
            "text/plain": [
              "[[10, 20, 30], [40, 50, 60]]"
            ]
          },
          "metadata": {
            "tags": []
          },
          "execution_count": 86
        }
      ]
    },
    {
      "cell_type": "markdown",
      "metadata": {
        "id": "QthKea-_LReP"
      },
      "source": [
        "Una manera preferible es usar la librería NumPy:"
      ]
    },
    {
      "cell_type": "code",
      "metadata": {
        "id": "1K-F57XwLReP",
        "colab": {
          "base_uri": "https://localhost:8080/"
        },
        "outputId": "54bdbd67-ae68-4723-b395-0fb7a380dd1c"
      },
      "source": [
        "A = np.array([\n",
        "    [10,20,30],\n",
        "    [40,50,60],\n",
        "    [20,50,70]\n",
        "])\n",
        "A"
      ],
      "execution_count": null,
      "outputs": [
        {
          "output_type": "execute_result",
          "data": {
            "text/plain": [
              "array([[10, 20, 30],\n",
              "       [40, 50, 60],\n",
              "       [20, 50, 70]])"
            ]
          },
          "metadata": {
            "tags": []
          },
          "execution_count": 95
        }
      ]
    },
    {
      "cell_type": "markdown",
      "metadata": {
        "id": "qotWVULqLReQ"
      },
      "source": [
        "Por convención, llamamos a las matrices con mayúsculas: $A$."
      ]
    },
    {
      "cell_type": "markdown",
      "metadata": {
        "id": "uXQ4grMeLReQ"
      },
      "source": [
        "## Tamaño\n",
        "\n",
        "El tamaño de una matriz se define por el número de filas y columnas, $filas \\times columnas$.\n",
        "\n",
        "Por ejemplo, la matriz $A$ de arriba es una matriz de $2 \\times 3$ matrix: 2 filas, 3 columnas. \n",
        "\n",
        "Veamos el tamaño con NumPy:"
      ]
    },
    {
      "cell_type": "code",
      "metadata": {
        "id": "RPy17CDQLReQ",
        "colab": {
          "base_uri": "https://localhost:8080/"
        },
        "outputId": "2a6f570c-05b6-4d4b-c081-c954ec681bb0"
      },
      "source": [
        "A.shape"
      ],
      "execution_count": null,
      "outputs": [
        {
          "output_type": "execute_result",
          "data": {
            "text/plain": [
              "(2, 3)"
            ]
          },
          "metadata": {
            "tags": []
          },
          "execution_count": 88
        }
      ]
    },
    {
      "cell_type": "markdown",
      "metadata": {
        "id": "peHZ6B-hLReQ"
      },
      "source": [
        "Ojo! El atributo `size` representa la cantidad de elementos en el array."
      ]
    },
    {
      "cell_type": "code",
      "metadata": {
        "id": "JYb3Pa9ULReQ",
        "colab": {
          "base_uri": "https://localhost:8080/"
        },
        "outputId": "50882dfb-5f38-4e16-8943-8be5e56b0c22"
      },
      "source": [
        "A.size"
      ],
      "execution_count": null,
      "outputs": [
        {
          "output_type": "execute_result",
          "data": {
            "text/plain": [
              "6"
            ]
          },
          "metadata": {
            "tags": []
          },
          "execution_count": 89
        }
      ]
    },
    {
      "cell_type": "markdown",
      "metadata": {
        "id": "1PINZThFLReQ"
      },
      "source": [
        "## Indexando Matrices\n",
        "\n",
        "El número ubicado en la fila $i^{th}$ y columna $j^{th}$ de la matriz $X$ lo denominamos $X_{i,j}$ o $X_{ij}$\n",
        "\n",
        "$X = \\begin{bmatrix}\n",
        "  x_{1,1} & x_{1,2} & x_{1,3} & \\cdots & x_{1,n}\\\\\n",
        "  x_{2,1} & x_{2,2} & x_{2,3} & \\cdots & x_{2,n}\\\\\n",
        "  x_{3,1} & x_{3,2} & x_{3,3} & \\cdots & x_{3,n}\\\\\n",
        "  \\vdots & \\vdots & \\vdots & \\ddots & \\vdots \\\\\n",
        "  x_{m,1} & x_{m,2} & x_{m,3} & \\cdots & x_{m,n}\\\\\n",
        "\\end{bmatrix}$\n",
        "\n",
        "\n",
        "Ojo! En general los índices arrancan en 1, pero en programación se arranca de 0!\n",
        "\n",
        "Para acceder a $A_{2,3}$, escribimos:"
      ]
    },
    {
      "cell_type": "code",
      "metadata": {
        "id": "D_gCMypjLReR",
        "colab": {
          "base_uri": "https://localhost:8080/"
        },
        "outputId": "2e9dd8a4-e983-4319-e4b8-8b0245f2aac7"
      },
      "source": [
        "A[1,2]  # 2da fila, 3ra columna"
      ],
      "execution_count": null,
      "outputs": [
        {
          "output_type": "execute_result",
          "data": {
            "text/plain": [
              "60"
            ]
          },
          "metadata": {
            "tags": []
          },
          "execution_count": 90
        }
      ]
    },
    {
      "cell_type": "markdown",
      "metadata": {
        "id": "9MNPPytKLReR"
      },
      "source": [
        "El vector fila $i^{th}$ se denomina $X_i$ o $X_{i,*}$\n",
        "\n",
        "En Python, vamos a acceder con: $A_{2,*}$ (2do vector de $A$)"
      ]
    },
    {
      "cell_type": "code",
      "metadata": {
        "id": "jIC6VRfnLReR",
        "colab": {
          "base_uri": "https://localhost:8080/"
        },
        "outputId": "36c7e2e9-4b33-4c8c-f4f9-f30d6fb1cb9b"
      },
      "source": [
        "A[1, :]  # 2do vector fila de A"
      ],
      "execution_count": null,
      "outputs": [
        {
          "output_type": "execute_result",
          "data": {
            "text/plain": [
              "array([40, 50, 60])"
            ]
          },
          "metadata": {
            "tags": []
          },
          "execution_count": 41
        }
      ]
    },
    {
      "cell_type": "markdown",
      "metadata": {
        "id": "qmwYNy0eLReR"
      },
      "source": [
        "De modo similar para las columnas:"
      ]
    },
    {
      "cell_type": "code",
      "metadata": {
        "id": "C2aiQe7OLReR",
        "colab": {
          "base_uri": "https://localhost:8080/"
        },
        "outputId": "0386ee82-5aab-4029-caae-e3d97c91f12e"
      },
      "source": [
        "A[:, 2]  # 3ra columna de A"
      ],
      "execution_count": null,
      "outputs": [
        {
          "output_type": "execute_result",
          "data": {
            "text/plain": [
              "array([30, 60])"
            ]
          },
          "metadata": {
            "tags": []
          },
          "execution_count": 91
        }
      ]
    },
    {
      "cell_type": "code",
      "metadata": {
        "id": "EHFbmj9_LReS",
        "colab": {
          "base_uri": "https://localhost:8080/"
        },
        "outputId": "89e65aab-87a2-4d81-9311-0c1186cc7925"
      },
      "source": [
        "A[:, 1:3]  # columnas 2 a 4"
      ],
      "execution_count": null,
      "outputs": [
        {
          "output_type": "execute_result",
          "data": {
            "text/plain": [
              "array([[20, 30],\n",
              "       [50, 60]])"
            ]
          },
          "metadata": {
            "tags": []
          },
          "execution_count": 43
        }
      ]
    },
    {
      "cell_type": "code",
      "metadata": {
        "colab": {
          "base_uri": "https://localhost:8080/"
        },
        "id": "jdw2MP__1nyH",
        "outputId": "e4c95d91-30b6-404a-f143-e09532845e29"
      },
      "source": [
        "A[0, :] # fila 3, columna 2"
      ],
      "execution_count": null,
      "outputs": [
        {
          "output_type": "execute_result",
          "data": {
            "text/plain": [
              "array([10, 20, 30])"
            ]
          },
          "metadata": {
            "tags": []
          },
          "execution_count": 96
        }
      ]
    },
    {
      "cell_type": "markdown",
      "metadata": {
        "id": "4mwwCGt7RWYX"
      },
      "source": [
        "# Ejemplo: Social Listening"
      ]
    },
    {
      "cell_type": "markdown",
      "metadata": {
        "id": "LrvyISPBRVpI"
      },
      "source": [
        "Con esta herramienta podemos buscar los últimos N tweets de un usuario O de un hashtag, ver en qué temas se agrupan.\n",
        "\n",
        "Instrucciones:\n",
        "\n",
        "- Darle play a la primera celda\n",
        "- Resetear: en el menu, elegir Runtime -> Restart runtime\n",
        "- Poner los parámetros que se quieran (usuario y cantidad de tweets) y ejecutar!\n",
        "\n",
        "Aclaración: puede tardar unos ~2-5 minutos, en especial la primera vez que se ejecuta.)"
      ]
    },
    {
      "cell_type": "code",
      "metadata": {
        "id": "tNxJ3jS4QKv3",
        "cellView": "form"
      },
      "source": [
        "#@title Darle play a esta celda y cuando termina, clickear en el menú \"Runtime\" o \"Entorno de Ejecución\" y \"Restart Runtime\" o \"Reiniciar entorno de ejecución\"  \n",
        "%%capture\n",
        "# Instalamos twint para bajar tweets\n",
        "!pip3 install --upgrade -e git+https://github.com/twintproject/twint.git@origin/master#egg=twint\n",
        "!pip3 install --upgrade aiohttp_socks\n",
        "!pip install tweet-preprocessor\n",
        "!pip install umap-learn\n",
        "!pip install sentence_transformers\n",
        "!pip install hdbscan\n",
        "!pip install transformers"
      ],
      "execution_count": null,
      "outputs": []
    },
    {
      "cell_type": "code",
      "metadata": {
        "colab": {
          "base_uri": "https://localhost:8080/",
          "height": 917
        },
        "id": "eoRqF7mNQOMy",
        "cellView": "form",
        "outputId": "ff79491e-972c-407e-ef13-865931c09ec5"
      },
      "source": [
        "buscar_por = \"usuario\"  # @param [\"usuario\", \"hashtag\"]\n",
        "usuario = \"UniversidadC\"  # @param {type:\"string\"}\n",
        "hashtag = \"\"  # @param {type:\"string\"}\n",
        "desde = \"2019-01-01\"  # @param {type:\"date\"}\n",
        "desde = desde + ' 00:00:00'\n",
        "idioma = \"es\"  # @param [\"en\", \"es\"]\n",
        "n = 1000  # @param {type:\"integer\"}\n",
        "download_csv = False  \n",
        "\n",
        "if idioma == \"es\":\n",
        "    sentiment_model = \"mrm8488/distill-bert-base-spanish-wwm-cased-finetuned-spa-squad2-es\"\n",
        "elif idioma == \"en\":\n",
        "    sentiment_model = \"distilbert-base-uncased-finetuned-sst-2-english\"\n",
        "else:\n",
        "    sentiment_model = \"nlptown/bert-base-multilingual-uncased-sentiment\"\n",
        "\n",
        "import time\n",
        "import re\n",
        "import textwrap\n",
        "import hdbscan\n",
        "import nest_asyncio\n",
        "import numpy as np\n",
        "import seaborn as sns\n",
        "\n",
        "# Hay que reiniciar la colab. Luego de eso, importamos\n",
        "import twint\n",
        "import umap\n",
        "from sentence_transformers import SentenceTransformer\n",
        "from sklearn.feature_extraction.text import CountVectorizer, TfidfVectorizer\n",
        "\n",
        "import pandas as pd\n",
        "import plotly.graph_objects as go\n",
        "import preprocessor as p\n",
        "\n",
        "from transformers import pipeline\n",
        "from io import BytesIO\n",
        "import seaborn as sns\n",
        "\n",
        "import matplotlib.pyplot as plt\n",
        "import numpy as np\n",
        "import requests as rq\n",
        "from PIL import Image\n",
        "from wordcloud import STOPWORDS, ImageColorGenerator, WordCloud\n",
        "from IPython.utils import io\n",
        "\n",
        "nest_asyncio.apply()\n",
        "pd.options.mode.chained_assignment = None\n",
        "now = time.strftime(\"%Y-%m-%d %H:%M:%S\")\n",
        "\n",
        "def make_cloud(text, img_url=None, width=800, height=800, plot=True, min_font_size=10):\n",
        "    mask = None\n",
        "\n",
        "    if img_url:\n",
        "        mask = np.array(Image.open(BytesIO(rq.get(img_url).content)))\n",
        "        mask[mask > 250] = 255\n",
        "        image_colors = ImageColorGenerator(mask)\n",
        "        width = mask.shape[1]\n",
        "        height = mask.shape[0]\n",
        "\n",
        "    stopwords = set(STOPWORDS)\n",
        "\n",
        "    wordcloud = WordCloud(\n",
        "        width=width,\n",
        "        height=height,\n",
        "        background_color=\"white\",\n",
        "        stopwords=stopwords,\n",
        "        random_state=42,\n",
        "        min_font_size=min_font_size,\n",
        "        mask=mask,\n",
        "        color_func=image_colors if img_url else None,\n",
        "    ).generate(text)\n",
        "\n",
        "    if plot:\n",
        "        plt.figure(figsize=(6, 6))\n",
        "        plt.imshow(wordcloud)\n",
        "        plt.axis(\"off\")\n",
        "        plt.tight_layout(pad=0)\n",
        "        plt.show()\n",
        "\n",
        "    return wordcloud\n",
        "\n",
        "def c_tf_idf(documents, m, ngram_range=(1, 1), stop_words=\"spanish\"):\n",
        "    count = CountVectorizer(ngram_range=ngram_range, stop_words=stop_words).fit(\n",
        "        documents\n",
        "    )\n",
        "    t = count.transform(documents).toarray()\n",
        "    w = t.sum(axis=1)\n",
        "    tf = np.divide(t.T, w)\n",
        "    sum_t = t.sum(axis=0)\n",
        "    idf = np.log(np.divide(m, sum_t)).reshape(-1, 1)\n",
        "    tf_idf = np.multiply(tf, idf)\n",
        "\n",
        "    return tf_idf, count\n",
        "\n",
        "\n",
        "def extract_top_n_words_per_topic(tf_idf, count, docs_per_topic, n=20):\n",
        "    words = count.get_feature_names()\n",
        "    labels = list(docs_per_topic.cluster)\n",
        "    tf_idf_transposed = tf_idf.T\n",
        "    indices = tf_idf_transposed.argsort()[:, -n:]\n",
        "    top_n_words = {\n",
        "        label: [(words[j], tf_idf_transposed[i][j]) for j in indices[i]][::-1]\n",
        "        for i, label in enumerate(labels)\n",
        "    }\n",
        "    return top_n_words\n",
        "\n",
        "\n",
        "def plot_clusters(all_coords: pd.DataFrame, clusters):\n",
        "    \"\"\"all_coords should have title, text, cluster, and color cols. Constructed like:\n",
        "\n",
        "    all_coords = pd.DataFrame(data = reduced, columns = ['x', 'y','z'])\n",
        "    all_coords['title'] = labels\n",
        "    all_coords['text'] = data\n",
        "    all_coords['cluster'] = clusters\"\"\"\n",
        "    fig = go.Figure()\n",
        "\n",
        "    # Group titles and get top N words per cluster\n",
        "    docs_per_topic = all_coords.groupby([\"cluster\"], as_index=False).agg(\n",
        "        {\"text\": \" \".join}\n",
        "    )\n",
        "    tf_idf, count = c_tf_idf(docs_per_topic.text.values, m=len(clusters), stop_words=[])\n",
        "    top_n_words = extract_top_n_words_per_topic(tf_idf, count, docs_per_topic, n=15)\n",
        "    # pprint({k: [w for w,r in v] for k,v in top_n_words.items()}, compact=True)\n",
        "\n",
        "    # @title 3D Plot\n",
        "    max_labels = 3\n",
        "    words_per_cluster = {\n",
        "        n: [p for p, score in l[:max_labels]] for n, l in top_n_words.items()\n",
        "    }\n",
        "\n",
        "    # Clusters\n",
        "    for c in np.unique(clusters):\n",
        "        coords = all_coords[all_coords.cluster == c]\n",
        "        fig.add_trace(\n",
        "            go.Scatter3d(\n",
        "                x=coords[\"x\"],\n",
        "                y=coords[\"y\"],\n",
        "                z=coords[\"z\"],\n",
        "                mode=\"markers\",\n",
        "                marker_size=8,\n",
        "                marker_line_width=1,\n",
        "                name=f\"Cº{str(c)}: {'<br>'.join(textwrap.wrap(' '.join(words_per_cluster[c]), width=50))}\",\n",
        "                marker_color=coords[\"color\"],\n",
        "                text=coords[\"text\"].apply(\n",
        "                    lambda txt: \"<br>\".join(textwrap.wrap(txt, width=50))\n",
        "                ),\n",
        "                hoverinfo=\"text\",\n",
        "            )\n",
        "        )\n",
        "    return fig\n",
        "\n",
        "\n",
        "def get_hashtag(hashtag, until=now, since=desde, n=None):\n",
        "    c = twint.Config()\n",
        "    c.Profile_full = True\n",
        "    c.Pandas = True\n",
        "    c.Search = hashtag\n",
        "    c.Show_hashtags = True\n",
        "    c.Until = until\n",
        "    c.Since = since\n",
        "    c.Count = True\n",
        "    c.Retweets = True\n",
        "    c.Hide_output = True\n",
        "    if n:\n",
        "        c.Limit = n\n",
        "\n",
        "    c.Store_csv = True\n",
        "    c.Output = until + \" to \" + since + \".csv\"\n",
        "\n",
        "    twint.run.Search(c)\n",
        "    tweets = twint.output.panda.Tweets_df[[\"date\", \"tweet\", \"hashtags\"]]\n",
        "    return tweets\n",
        "\n",
        "\n",
        "def get_user(user, until=now, since=desde, n=None):\n",
        "    # Descargamos tweets\n",
        "    c = twint.Config()\n",
        "    c.Username = user\n",
        "    c.Until = until\n",
        "    c.Since = since\n",
        "    c.Hide_output = True\n",
        "    c.Pandas = True\n",
        "    if n:\n",
        "        c.Limit = n\n",
        "    twint.run.Search(c)\n",
        "    tweets = twint.output.panda.Tweets_df[[\"date\", \"tweet\", \"hashtags\"]]\n",
        "    return tweets\n",
        "\n",
        "print(\"Descargando Tweets...\")\n",
        "\n",
        "if buscar_por == \"usuario\":\n",
        "    func = get_user\n",
        "    query = usuario\n",
        "else:\n",
        "    func = get_hashtag\n",
        "    query = hashtag\n",
        "\n",
        "tweets = func(query, n=n)\n",
        "print(f'Got {tweets.shape[0]} tweets')\n",
        "if download_csv:\n",
        "    # Descargar csv a local\n",
        "    tweets.to_csv(f\"{user}.csv\")\n",
        "    from google.colab import files\n",
        "\n",
        "    files.download(f\"{user}.csv\")\n",
        "  \n",
        "\n",
        "print(\"Despertando IAs...\")\n",
        "with io.capture_output() as captured:\n",
        "    sentence_transformers_model = (\n",
        "        \"sentence-transformers/distilbert-multilingual-nli-stsb-quora-ranking\"\n",
        "    )\n",
        "    model = SentenceTransformer(sentence_transformers_model)\n",
        "    #get_sentiment = pipeline(\"sentiment-analysis\", model=sentiment_model)\n",
        "\n",
        "print(\"Procesando...\")\n",
        "tweets[\"tweet\"] = tweets.apply(lambda x: p.clean(x[\"tweet\"]), axis=1)\n",
        "\n",
        "# Por tweets iguales con distintas URLs\n",
        "tweets = tweets.drop_duplicates(\"tweet\")\n",
        "tweets = tweets.loc[(tweets[\"tweet\"].str.len() > 1), :]\n",
        "\n",
        "embeddings = model.encode(tweets[\"tweet\"].tolist())\n",
        "reducer = umap.UMAP(n_components=3).fit(embeddings)\n",
        "umap_embeddings = reducer.transform(embeddings)\n",
        "cluster = hdbscan.HDBSCAN().fit(umap_embeddings)\n",
        "\n",
        "data = tweets[\"tweet\"].tolist()\n",
        "clusters = cluster.labels_\n",
        "\n",
        "all_coords = pd.DataFrame(data=umap_embeddings, columns=[\"x\", \"y\", \"z\"])\n",
        "all_coords[\"text\"] = data\n",
        "all_coords[\"cluster\"] = clusters\n",
        "\n",
        "# for style in ['YlGnBu']:\n",
        "style = \"viridis_r\"\n",
        "# We generate a list of colors\n",
        "palette = sns.color_palette(style, n_colors=len(np.unique(clusters)) + 1).as_hex()\n",
        "all_coords[\"color\"] = [palette[i] for i in clusters]\n",
        "\n",
        "fig = plot_clusters(all_coords, clusters)\n",
        "fig.update_layout(\n",
        "    width=1000,\n",
        "    height=800,\n",
        "    autosize=False,\n",
        "    showlegend=True,\n",
        "    scene={\"aspectmode\": \"cube\"},\n",
        ")\n",
        "fig.show()"
      ],
      "execution_count": null,
      "outputs": [
        {
          "output_type": "stream",
          "text": [
            "Descargando Tweets...\n",
            "[!] No more data! Scraping will stop now.\n",
            "found 0 deleted tweets in this search.\n",
            "Got 243 tweets\n",
            "Despertando IAs...\n",
            "Procesando...\n"
          ],
          "name": "stdout"
        },
        {
          "output_type": "display_data",
          "data": {
            "text/html": [
              "<html>\n",
              "<head><meta charset=\"utf-8\" /></head>\n",
              "<body>\n",
              "    <div>\n",
              "            <script src=\"https://cdnjs.cloudflare.com/ajax/libs/mathjax/2.7.5/MathJax.js?config=TeX-AMS-MML_SVG\"></script><script type=\"text/javascript\">if (window.MathJax) {MathJax.Hub.Config({SVG: {font: \"STIX-Web\"}});}</script>\n",
              "                <script type=\"text/javascript\">window.PlotlyConfig = {MathJaxConfig: 'local'};</script>\n",
              "        <script src=\"https://cdn.plot.ly/plotly-latest.min.js\"></script>    \n",
              "            <div id=\"1076f676-6d8a-4569-a8af-70f235ec5754\" class=\"plotly-graph-div\" style=\"height:800px; width:1000px;\"></div>\n",
              "            <script type=\"text/javascript\">\n",
              "                \n",
              "                    window.PLOTLYENV=window.PLOTLYENV || {};\n",
              "                    \n",
              "                if (document.getElementById(\"1076f676-6d8a-4569-a8af-70f235ec5754\")) {\n",
              "                    Plotly.newPlot(\n",
              "                        '1076f676-6d8a-4569-a8af-70f235ec5754',\n",
              "                        [{\"hoverinfo\": \"text\", \"marker\": {\"color\": [\"#482475\", \"#482475\", \"#482475\", \"#482475\", \"#482475\", \"#482475\", \"#482475\", \"#482475\", \"#482475\", \"#482475\", \"#482475\", \"#482475\", \"#482475\", \"#482475\", \"#482475\", \"#482475\", \"#482475\", \"#482475\", \"#482475\", \"#482475\", \"#482475\", \"#482475\", \"#482475\", \"#482475\", \"#482475\", \"#482475\", \"#482475\", \"#482475\", \"#482475\", \"#482475\", \"#482475\", \"#482475\", \"#482475\", \"#482475\", \"#482475\", \"#482475\", \"#482475\", \"#482475\", \"#482475\", \"#482475\", \"#482475\", \"#482475\", \"#482475\", \"#482475\", \"#482475\", \"#482475\", \"#482475\", \"#482475\", \"#482475\", \"#482475\", \"#482475\", \"#482475\", \"#482475\", \"#482475\", \"#482475\", \"#482475\", \"#482475\", \"#482475\", \"#482475\", \"#482475\", \"#482475\", \"#482475\", \"#482475\", \"#482475\", \"#482475\", \"#482475\", \"#482475\", \"#482475\", \"#482475\", \"#482475\", \"#482475\", \"#482475\", \"#482475\", \"#482475\", \"#482475\", \"#482475\", \"#482475\", \"#482475\"], \"line\": {\"width\": 1}, \"size\": 8}, \"mode\": \"markers\", \"name\": \"C\\u00ba-1: para el con\", \"text\": [\"Viva la Patria!\", \"Hoy Coro Universitario UCCuyo Te esperamos!\", \"Feliz da a todos los profesionales que con tan<br>noble tarea cuidan y sostienen la salud de la<br>comunidad sanjuanina. Saludamos especialmente a<br>quienes integran la Facultad de Ciencia Mdicas.\", \"Desde la Facultad de Ciencias Medicas-UCCuyo<br>invitan a participar: Conversatorio sobre<br>experiencias en Enfermeria en pandemia COVID. de<br>Mayo. va Zoom:\", \"Conoc el Plan Estratgico Emprendedor: Desde la<br>Secretara de Extensin y Relaciones Institucionales<br>se llevan a cabo una serie de actividades para<br>apoyar la actividad emprendedora. Inscripciones:\", \"Saludamos en su Aniversarios a nuestra querida<br>Facultad Don Bosco de Enologa y Ciencias de la<br>Alimentacin- Rodeo del Medio, Mendoza!\", \"Firma de convenios con la Secretara de Deportes de<br>la provincia se San Juan juntos a la Facultad De<br>Educacin para la realizacin de licenciaturas,<br>tecnicaturas y diplomaturas deportivas Ms info:\", \"Celebramos a los Investigadores Cientficos en la<br>Argentina y especialmente a los equipos de nuestra<br>Universidad que contribuyen al desarrollo de las<br>ciencias.\", \"Honor y Reconocimiento a los hombres que forjaron<br>nuestra Patria!\", \"Memoria del pasado para mejorar el presente y<br>construir un futuro mejor.\", \"Gran clase de Magistral sobre Legitimidad y<br>Credibilidad de Poder Judicial\", \"Convocatoria Beca de Estudio Santander Fecha lmite<br>de postulacin: de mayo de Conoc los requisitos:<br>Informes: internacional.edu.ar\", \"Propuestas Desde la Facultad de Derecho y Ciencias<br>Sociales\", \"de marzo Da Internacional de la Mujer Saludamos a<br>todas las mujeres de nuestra provincia y<br>especialmente a quienes participan de nuestra<br>comunidad educativa.\", \"Maestra en Administracin Estratgica de Negocios<br>Webinar Informativo /02 - hs Por Google meet<br>Inscripcin .\", \"Las prcticas de compromiso social, como<br>actividades solidarias de base comunitaria,<br>atienden el bien comn de toda sociedad.\", \"Acto de reconocimiento de la Cmara Olivcola de San<br>Juan al Panel de Anlisis Sensorial de Aceite de<br>Oliva Virgen, dependiente del Centro Regional de<br>Anlisis Sensorial de Aceite de Oliva y Alimentos<br>(CRESA) en su Aniversario.\", \"Homenaje a los hombres que la forjaron nuestra<br>Patria!\", \"Celebramos juntos todo aquello que nos identifica<br>y une como Nacin.\", \"En su Aniversario hacemos llegar nuestro saludo a<br>la comunidad educativa de la Facultad Don Bosco de<br>la UCCUyo con sede en Mendoza.\", \"Escuela de Cultura Religiosa y Pastoral<br>dependiente del Vicerrectorado de Formacin Invitan<br>a Webinar Carlo Acutis. El ciber apstol de la fe y<br>su mirada sobre el mundo digital. Informes:<br>cultura.edu.ar\", \"Feliz da a todas las mams y particularmente a<br>quienes son parte de nuestra comunidad educativa.\", \"Con la Secretara de Deportes de la provincia de<br>San Juan, la Facultad de Educacin y la Facultad<br>Filosofa y Humanidades de la UCCuyo los invitamos<br>a participar del Foro Virtual. El rol de la mujer<br>en la Educacin Fsica\", \"Trabajamos en acciones conjuntas para asegurar el<br>acceso a la educacin superior universitaria a<br>todos los jvenes del ltimo ao del nivel<br>secundario.\", \"El Panel de Cata de Aceite de Oliva del Centro<br>Regional de Anlisis Sensorial de Alimentos CRESA<br>de la UCCuyo cumple aos.\", \"Expo Vocacional-Futuro -2021 Seguimos con todo en<br>la Oferta Educativa Provincial:\", \"Trabajamos para el futuro Movimiento B en la en la<br>enseanza universitaria-formas de organizacin<br>econmicas para el bienestar de las personas, la<br>sociedad y la Tierra. Inscripciones: nite:\", \"Con la llegada de la primavera saludamos a<br>nuestros Estudiantes quienes tambin se tuvieron<br>que acomodar a esta nueva realidad A seguir este<br>camino con mucha pasin y voluntad!\", \"Educacin, compromiso, desarrollo y trabajo: con y<br>para la comunidad de todo Cuyo. Saludamos a<br>nuestra comunidad educativa y compartimos un ao ms<br>de vida.\", \"Centro Tecnolgico en Robtica y Educacin invita al<br>: aos de Tecnologa Educativa robotica.edu.ar\", \"Ya estamos en Accin: Expo Vocacional-Futuro -2021\", \"Ya arranc! Expo Vocacional-Futuro -2021\", \"Importante trabajo en colaboracin en el rea de<br>Investigacin:\", \"A participar! Seguimos apostando al dilogo y<br>trabajo conjunto para el desarrollo econmico y<br>comunitario.\", \"Seguimos sumando entre todos!\", \"El trabajo en conjunto con otras organizaciones<br>para sumar al crecimiento de Comunidades en San<br>Juan\", \"Confluencia de miradas sobre agricultura y<br>territorio. Debatir y proponer estrategias de<br>promocin social innovadoras, amigables con el<br>medioambiente y econmicamente sostenibles en el<br>tiempo.\", \"Centro de Tecnolgico de Robtica y Educacin UCCuyo\", \"Te esperamos! Ciclo de Conferencias de la Facultad<br>de Derecho UCCuyo Inscripciones:\", \"Recordar que los amigos estn siempre donde los<br>elegimos\", \"Homenaje a los hombres que forjaron nuestra<br>Patria!\", \"Aportando al desarrollo de la provincia nos<br>sumamos a la invitacin para trabajar en forma<br>cooperativa.\", \"Un buen libro no es aquel que piensa por ti, sino<br>aquel que te hace pensar. James McCosh El da del<br>libro es un motivo para promocionar la lectura y<br>valorar ese objeto maravilloso que desborda<br>cultura. Editorial Universitaria UCCuyo\", \"Celebracin de Corpus Christi\", \"Bienvenidos ingresantes a la UCCuyo! Descubr en un<br>click todo lo que tenemos para vos\", \"Martn Rinaldi Tosi es profesor de Fisiologa y<br>Biofsica de la Facultad de Ciencias Mdicas UCCuyo<br>Sede San Luis y su proyecto para estudiar el<br>Covid-19 fue seleccionadoen el puesto entre ms de<br>proyectos:\", \"Continuamos con la labor de formar a los agentes<br>de seguridad de nuestra provincia a travs de<br>nuestra Escuela de Seguridad. Ms informacin:\", \"Aprueban frmaco para el COVID19 estudiado desde la<br>Universidad Catlica de Cuyo.\", \"Aportes desde la Investigacin universitaria en<br>tiempos de pandemia. Conoce ms:\", \"Acompaamos a la comunidad.\", \"Honor y Reconocimiento!\", \"La Editorial Universitaria UCCuyo te invita en<br>este tiempo de resguardo por la preservacin de la<br>salud y la vida de todos (COVID.19), a recorrer su<br>pgina: .\", \"Recordar el pasado y pensar en mejorar el presente<br>para construir un futuro mejor.\", \"Quedate en casa!\", \"Atencin\", \"Quedate en tu casa!\", \"Atencin a la comunidad educativa\", \"Trabajo equipo para seguir aportando al desarrollo<br>de laProvincia de San Juan.\", \"Cooperacin Internacional La Secretaria de Extensin<br>y Relaciones Institucionales recibi desde la<br>Repblica Democrtica del Congo para un study-work a<br>Belange Muganza junto a Chancelle Tumba y para<br>cumplir con tareas de investigacin Maylin Martnez<br>de Cuba.\", \"Celebramos y alentamos a quienes con sus<br>actividades solidarias atienden el bien comn de<br>toda la sociedad.\", \"Novedades en Investigacin Aprobaron proyectos<br>enmarcados en el PICTO Trabajo conjunto entre el<br>Consejo de Investigacin de la UCCuyo e integrantes<br>de la Secretara de Estado de Ciencia, Tecnologa e<br>Innovacin.\", \"En el marco del FESTECA se realizaron las Jornadas<br>Entornos Educativos Saludables en la UCCuyo con la<br>exposicin del proyecto Universidad libre de<br>tabaco.\", \"Saludamos, festejamos y seguimos motivando a<br>nuestros alumnos en el camino de los valores y la<br>perseverancia para lograr sus objetivos con<br>alegria.\", \"Desde compromiso y trabajo con y para la comunidad<br>de todo Cuyo. Saludamos a la comunidad educativa<br>de nuestra institucin y compartimos un ao ms de<br>vida.\", \"Concurso Felicitaciones a Amparo Gonzalez de la<br>Tec. Univ. en Gestin Gastronmica -Facultad de Cs.<br>Qumicas y Tecnolgicas- ganadora con su trucha<br>marinada en aceite de oliva con pastas al pesto,<br>corazones de alcauciles y cabezas de esprragos.\", \"El Instituto Superior de Formacin Docente Santa<br>Mara cumpli sus bodas de Plata y lo celebr con su<br>Acto de Colacin de egresados -2019.\", \"Felicidades a todos los Abogados en su Da\", \"Novedades en Investigacin Investigador de la<br>UCCuyo trabajar en Espaa clulas tumorales de<br>Leucemia Facultad de Ciencias Qumicas y<br>Tecnolgicas - UCCuyo. Becas Iberoamerica.<br>Santander-UCCuyo Investigacin. Ms Informacin:\", \"Proyeccin al medio del Coro de la UCCuyo. Conoc:\", \"En todos los lugares encontramos grandes amigos!<br>Feliz Da del Amigo\", \"Presentacin de los trabajos de investigacin en<br>Nanotecnologa de la Facultad de Ciencias Qumicas y<br>Tecnolgicas de la UCCuyo en la era Edicin de la<br>Gua Quin es Quin en Nanotecnologa en Argentina.\", \"La saluda al Instituto Superior de Formacin<br>Docente Santa Mara en su Aniversario de creacin.\", \"Invitamos a participar de la Presentacin del<br>libro: \\\"Enseanza Bimodal e Investigacin en Ingls<br>Jurdico\\\" Jueves de Marzo. Se entregarn<br>certificaciones. Ms informacin en:<br>sec.extension.edu.ar -999-7207\", \"Conferencia de Prensa / Nuevas Carreras en A cargo<br>de las autoridades de la , se presentaron en<br>sociedad y a la prensa local, las nuevas de a<br>realizarse en el departamento. Le la nota completa<br>aqu &gt;\", \"Cientficos sanjuaninos investigan para detectar y<br>combatir el . La investigacin se desarrolla en el<br>Instituto de Ciencias Biomdicas de la . Le la nota<br>aqu &gt;\", \"Nueva propuesta en posgrado Maestra en Gestin de<br>Nuevas Tecnologas en Comunicacin Comienza en<br>Abril. Duracin: aos. Ms informacin: -5047879 o<br>posgradofilosofia.edu.ar\", \"Curso de Seguridad y Salud Ocupacional - Modalidad<br>Presencial y Virtual - Inscripciones: calle<br>Caseros Sur, Capital. Consultar Arancel a: ASIMRA<br>San Juan (0264) -1452 // UCCuyo San Juan -4711334\", \"La fue anfitriona, el pasado de febrero, del<br>encuentro con el presidente del Consejo Mundial<br>para la Tolerancia y la , Ahmed bin Mohammed Al-<br>Jarwan con quien fue suscripto un Memorndum de<br>Entendimiento. Ver nota &gt;&gt;&gt;\"], \"type\": \"scatter3d\", \"x\": [10.185511589050293, 10.744669914245605, 11.60100269317627, 10.116936683654785, 9.453693389892578, 10.621214866638184, 11.724206924438477, 10.802873611450195, 9.746756553649902, 8.683951377868652, 11.168286323547363, 11.014524459838867, 11.803194999694824, 10.239822387695312, 9.301728248596191, 10.345603942871094, 10.515512466430664, 9.497743606567383, 9.348410606384277, 10.816851615905762, 10.557621002197266, 10.910791397094727, 11.581387519836426, 11.186595916748047, 10.54800796508789, 9.484312057495117, 10.991262435913086, 11.053464889526367, 10.819503784179688, 10.282660484313965, 9.457422256469727, 9.500306129455566, 9.458974838256836, 10.038104057312012, 9.502533912658691, 11.928913116455078, 9.960722923278809, 10.428953170776367, 10.971899032592773, 9.651474952697754, 9.454570770263672, 10.224583625793457, 10.945571899414062, 10.703174591064453, 10.730653762817383, 10.073923110961914, 11.955591201782227, 10.10342788696289, 9.390315055847168, 9.85775089263916, 10.282532691955566, 10.611078262329102, 8.706125259399414, 8.842558860778809, 10.31112289428711, 8.940034866333008, 11.286577224731445, 11.881051063537598, 10.364641189575195, 10.315055847167969, 9.554369926452637, 10.206192970275879, 11.092940330505371, 10.952627182006836, 10.481375694274902, 10.251860618591309, 10.465886116027832, 10.085748672485352, 10.686677932739258, 10.052742004394531, 9.906421661376953, 10.386822700500488, 11.081408500671387, 10.013431549072266, 9.999377250671387, 9.35791301727295, 11.494217872619629, 10.050101280212402], \"y\": [1.459228754043579, 1.2327282428741455, 2.2110695838928223, 0.6571188569068909, 1.1114323139190674, 0.7894032001495361, 1.2640541791915894, 0.8291838765144348, 2.712653875350952, 1.5807241201400757, 0.49623608589172363, 0.03864293545484543, 1.4247163534164429, 1.9280166625976562, 1.053995132446289, 2.3403100967407227, -0.035209767520427704, 2.6262216567993164, 1.3614190816879272, 0.8806537389755249, 1.2776893377304077, 2.6964423656463623, 1.3909286260604858, 2.2750465869903564, -0.04893374443054199, 2.0313303470611572, 2.3093795776367188, 2.6115541458129883, 2.22240948677063, 1.3376667499542236, 2.0379159450531006, 1.984706997871399, 0.4760144352912903, 1.4936991930007935, 2.3793556690216064, 0.8397896885871887, 1.5366291999816895, 1.4051777124404907, 1.361586332321167, 2.570340633392334, 2.5052132606506348, 1.335490107536316, 0.9471504092216492, 1.153304934501648, 1.535786747932434, 0.16943223774433136, 2.578808546066284, 0.5122624039649963, 0.6915595531463623, 2.5936837196350098, 2.919872283935547, 1.0169161558151245, 1.5925166606903076, 2.3145999908447266, 0.0801284909248352, 2.210869312286377, 2.366955518722534, 0.8055821657180786, 0.5071285963058472, 2.677428960800171, 0.4891253411769867, 1.3599053621292114, 2.7648367881774902, 2.1774308681488037, -0.04536481201648712, 0.9109910130500793, 3.033159017562866, -0.05829929560422897, 1.138339638710022, 2.7948973178863525, 0.1885751634836197, 1.0828708410263062, 0.7711697816848755, 1.6360129117965698, -0.0029106317088007927, 1.017012119293213, 0.11521440744400024, 1.2192466259002686], \"z\": [6.949587345123291, 8.37135124206543, 6.297879695892334, 9.095858573913574, 8.259757041931152, 7.090575695037842, 8.474992752075195, 7.190240383148193, 6.4375, 7.768463134765625, 8.216567993164062, 9.33867359161377, 9.246777534484863, 7.390702724456787, 9.48027229309082, 7.312170505523682, 8.23515510559082, 6.573781967163086, 7.602049350738525, 7.156434535980225, 10.08266830444336, 7.109911918640137, 8.642253875732422, 9.437139511108398, 8.423101425170898, 8.85170841217041, 8.955743789672852, 8.232197761535645, 7.392467498779297, 9.717493057250977, 8.817630767822266, 8.800044059753418, 8.363354682922363, 7.84492301940918, 7.466760635375977, 7.817481517791748, 7.904834747314453, 9.793327331542969, 8.939316749572754, 6.974077224731445, 6.6757659912109375, 7.927701473236084, 9.754847526550293, 8.094528198242188, 8.870338439941406, 8.92931079864502, 7.08253812789917, 9.001739501953125, 8.754515647888184, 7.132981300354004, 6.328046798706055, 9.171910285949707, 7.704668998718262, 7.963152885437012, 8.151195526123047, 7.84026575088501, 9.336359024047852, 7.837184906005859, 9.216205596923828, 6.875264644622803, 8.494860649108887, 9.215396881103516, 7.89509391784668, 7.379749298095703, 8.524415969848633, 7.322667121887207, 6.426327228546143, 8.884577751159668, 8.329427719116211, 6.812924385070801, 8.594605445861816, 7.152316093444824, 9.98669719696045, 8.572471618652344, 8.746850967407227, 9.555109024047852, 8.580470085144043, 8.622303009033203]}, {\"hoverinfo\": \"text\", \"marker\": {\"color\": [\"#bddf26\", \"#bddf26\", \"#bddf26\", \"#bddf26\", \"#bddf26\", \"#bddf26\", \"#bddf26\"], \"line\": {\"width\": 1}, \"size\": 8}, \"mode\": \"markers\", \"name\": \"C\\u00ba0: salud mdicas profesionales\", \"text\": [\"Hoy saludamos a quienes incansablemente estn<br>cuidando de nuestra salud. Feliz Da! Especialmente<br>a los profesionales de nuestra Facultad de<br>Ciencias Mdicas.\", \"Saludamos a los profesionales de la salud en su da<br>y particularmente a los formadores y egresados de<br>nuestra Facultad de Ciencias Mdicas.\", \"Saludamos a todos los profesionales que a diario<br>brindan su atencin y servicio en mbitos de la<br>salud en especial a quienes son parte de la<br>Facultad de Ciencias Qumicas y Tecnolgicas.\", \"Saludamos en su da a todos los profesionales<br>nutricionistas. Y destcamos la labor de todos<br>ellos en la Facultad de Ciencias Mdicas.\", \"Hoy saludamos a todos los profesionales de la<br>salud dedicadas y dedicados a la enfermera<br>especialmente a quienes pertenecen a Facultad<br>Ciencias Mdicas\", \"Saludamos a los profesionales de la salud de toda<br>la provincia y especialmente a quienes forman<br>parte de nuestra Facultad Ciencias Mdicas.\", \"Finaliz Programa Equipos de Alto Desempeo para<br>empleados de salud.\"], \"type\": \"scatter3d\", \"x\": [11.839510917663574, 11.95923137664795, 11.899736404418945, 11.884663581848145, 11.90800666809082, 11.873353958129883, 12.028363227844238], \"y\": [2.907071352005005, 3.0957608222961426, 2.920111656188965, 2.8125100135803223, 3.089855194091797, 3.183753490447998, 2.7041354179382324], \"z\": [6.048590660095215, 5.8285675048828125, 6.086874961853027, 6.098114967346191, 5.83138370513916, 5.741787910461426, 6.079620361328125]}, {\"hoverinfo\": \"text\", \"marker\": {\"color\": [\"#7ad151\", \"#7ad151\", \"#7ad151\", \"#7ad151\", \"#7ad151\", \"#7ad151\", \"#7ad151\", \"#7ad151\", \"#7ad151\", \"#7ad151\", \"#7ad151\", \"#7ad151\", \"#7ad151\", \"#7ad151\", \"#7ad151\", \"#7ad151\", \"#7ad151\", \"#7ad151\", \"#7ad151\", \"#7ad151\", \"#7ad151\", \"#7ad151\", \"#7ad151\", \"#7ad151\", \"#7ad151\", \"#7ad151\"], \"line\": {\"width\": 1}, \"size\": 8}, \"mode\": \"markers\", \"name\": \"C\\u00ba1: todos saludamos los\", \"text\": [\"Hoy saludamos a todos los profesionales que<br>fortalecen el crecimiento y desarrollo de las<br>personas que ms lo necesitan, especialmente a<br>quienes forman parte de la Facultad de Filosofa y<br>Humanidades.\", \"Saludamos a todos los profesionales que hacen<br>posible la seguridad en los mbitos de trabajo y<br>especialmente a quienes se desempean en nuestra<br>Facultad de Ciencias Qumicas y Tecnolgicas.\", \"Saludamos en su da a todos aquellos que integran y<br>ensean en la Escuela de Seguridad.\", \"Saludamos en su da a los profesionales de nuestra<br>provincia y especialmente a quienes integran la<br>Facultad de Cienciad Econmicas y Empresariales.\", \"Felicitaciones a los equipos de investigacin de<br>las Facultad de Ciencias Mdicas y Filosofa y<br>Humanidades.\", \"En su da felicitamos a todos los profesionales<br>Psiclogos y especialmente a quienes pertenecen a<br>nuestra Facultad de Filosofia y Humanidades.\", \"Hacemos llegar nuestro saludo a todos los<br>profesionales de la provincia y particularmente a<br>los que pertenecen a la Facultad de Derecho y<br>Ciencias Sociales.\", \"Egresados En un ao muy especial saludamos y<br>felicitamos a todos los nuevos profesionales de<br>cada una de nuestras unidades acadmicas.\", \"Saludamos en su da a quienes eligieron tan noble<br>profesin y con gran afecto a todos los profesores<br>de nuestra Universidad\", \"Saludamos y agradecemos a nuestros colaboradores y<br>a todos los de la provincia en su da.\", \"Saludamos a todos los profesionales y<br>especialmente a quienes forman parte de la<br>Facultad de Ciencias Qumicasy Tecnolgicas.\", \"Queremos saludar a quienes se desempean brindando<br>un soporte esencial para el correcto<br>funcionamiento de las diferentes instituciones y<br>en especial a quienes forman parte de nuestra<br>comunidad educativa. Feliz Da!\", \"Saludamos en su Da a todos los Abogados y<br>especialmente a quienes conforman la Facultad\", \"Saludamos y Agradecemos el servicio a la comunidad<br>de los Agentes de Polica de nuestra provincia.\", \"Afectuoso Saludo para todos los Padres en su Da!\", \"Saludamos a todos los profesionales de la<br>provincia y en especial a quienes se desempean en<br>la Facultad de Ciencias Qumicas y Tecnolgicas.\", \"Feliz Da en especial a los egresados y formadores<br>de nuestra Facultad de Filosofa y Humanidades!\", \"Saludamos a todos los Egresados de la provincia y<br>especialmente a los profesionales de nuestra<br>Facultad de Ciencias Econmicas y Empresariales.\", \"Saludamos en su da a todos los que hacen posible<br>la seguridad en los mbitos de trabajo y<br>especialmente a los profesionales de nuestra<br>Facultad de Ciencias Qumicas y Tecnolgicas\", \"Feliz Da a todos aquellos que integran y ensean en<br>la Escuela de Seguridad.\", \"Saludamos a todos los profesores y en especial a<br>quienes desarrollan sus tareas en nuestra casa<br>acadmica.\", \"Saludamos a todos los profesionales de la Enologa<br>de la provincia.\", \"Saludamos a todas y cada una de las personas que<br>hacen posible el trabajo de los diferentes equipos<br>con responsabilidad y compromiso.\", \"Saludamos y Felicitamos a los autores y tutores de<br>los trabajos premiados de la UCCuyo.\", \"Saludos en su Da a quienes con su servicio ayudan<br>en la labor de la evangelizacin de nios, jvenes y<br>adultos.\", \"[10 de Abril] Da del Investigador Cientfico.<br>Saludamos a todos los profesionales que da a da<br>demuestran su esfuerzo y dedicacin, buscando el<br>crecimiento y avance en nuestra sociedad.\"], \"type\": \"scatter3d\", \"x\": [11.357383728027344, 11.877922058105469, 11.90969467163086, 11.347673416137695, 11.210424423217773, 11.34421157836914, 11.270770072937012, 11.112761497497559, 11.033529281616211, 11.181593894958496, 11.379469871520996, 11.031012535095215, 10.929861068725586, 11.20142936706543, 10.6692533493042, 11.432023048400879, 11.141257286071777, 11.36426830291748, 11.820799827575684, 11.908729553222656, 11.11751937866211, 11.43163013458252, 10.94981861114502, 11.106452941894531, 11.045010566711426, 11.625207901000977], \"y\": [3.26796293258667, 2.7793755531311035, 2.629487991333008, 3.6266865730285645, 3.550767660140991, 3.5376970767974854, 3.4881978034973145, 3.404445171356201, 3.3646271228790283, 3.608851194381714, 3.433908224105835, 2.8786909580230713, 3.189192056655884, 3.6207215785980225, 2.984240770339966, 3.6311123371124268, 3.3751220703125, 3.6467936038970947, 2.785490036010742, 2.653040885925293, 3.2409846782684326, 3.552934408187866, 3.382096290588379, 3.3799002170562744, 2.525144100189209, 2.9076051712036133], \"z\": [6.593350887298584, 6.689723014831543, 6.989953994750977, 5.551291465759277, 6.6440253257751465, 6.490138053894043, 5.494234561920166, 6.222523212432861, 6.409337520599365, 5.45758056640625, 6.081863880157471, 6.744061470031738, 6.383502006530762, 5.448071002960205, 6.395453453063965, 5.662560939788818, 6.91294002532959, 5.572704792022705, 6.686030387878418, 7.081307411193848, 6.2818708419799805, 5.685086250305176, 6.119256496429443, 6.943939208984375, 6.58966064453125, 6.716451644897461]}, {\"hoverinfo\": \"text\", \"marker\": {\"color\": [\"#44bf70\", \"#44bf70\", \"#44bf70\", \"#44bf70\", \"#44bf70\", \"#44bf70\", \"#44bf70\", \"#44bf70\", \"#44bf70\", \"#44bf70\", \"#44bf70\"], \"line\": {\"width\": 1}, \"size\": 8}, \"mode\": \"markers\", \"name\": \"C\\u00ba2: gracias sanjuaninos todos\", \"text\": [\"Gracias por la dedicacin y el esfuerzo de todos<br>das! Saludamos a todos los sanjuaninos y<br>especialmente a quienes integran nuestra comunidad<br>educativa.\", \"Saludamos a los profesionales sanjuaninos y en<br>particular a quienes forman parte de nuestra<br>Facultad Ciencias Mdicas.\", \"de Febrero Da Internacional de la Mujer y la Nia<br>en la Ciencia. En el testimonio de la Dra. Sandra<br>Noriega investigador de la Facultad de Ciencias<br>Qumicas y Tecnolgicas saludamos a todas las<br>mujeres investigadoras de la UCCuyo. Gracias por<br>su aporte y dedicacin!\", \"Felicidades en su da a los profesionales de San<br>Juan y especialmente a quienes conforman la<br>Facultad de Educacin\", \"Conmemorando al gran prcer sanjuanino saludamos a<br>todos los maestros en su da.\", \"Feliz Da San Juan!\", \"Saludamos a todos los trabajadores sanjuaninos y<br>en especial a todos y cada uno de quienes en sus<br>diferentes funciones hacen a nuestra Universidad.\", \"Bienvenidos\", \"Felicidades en su da a los profesionales de San<br>Juan y especialmente a quienes conforman nuestra<br>Facultad De Educacin.\", \"Recordando al Gran Prcer sanjuanino Domingo<br>Faustino Sarmiento saludamos a todos los Maestros<br>de la provincia.\", \"Gracias por tan grato encuentro! Estuvimos<br>presentes en la Asamblea Arquidiocesana realizada<br>en el Colegio Don Bosco-San Juan\"], \"type\": \"scatter3d\", \"x\": [11.265603065490723, 11.437216758728027, 11.060166358947754, 11.429421424865723, 11.161972999572754, 11.249279975891113, 11.330062866210938, 10.9439697265625, 11.517502784729004, 11.205459594726562, 11.42369270324707], \"y\": [2.2424283027648926, 1.9713971614837646, 2.0227653980255127, 1.5768488645553589, 2.375074625015259, 1.4363458156585693, 2.1065280437469482, 1.5548601150512695, 1.6249301433563232, 1.7559679746627808, 1.551582932472229], \"z\": [6.56102991104126, 6.391556739807129, 6.706730365753174, 6.586435317993164, 6.469854354858398, 6.5665106773376465, 6.323192596435547, 6.607868194580078, 6.586165904998779, 6.5018086433410645, 6.673779487609863]}, {\"hoverinfo\": \"text\", \"marker\": {\"color\": [\"#22a884\", \"#22a884\", \"#22a884\", \"#22a884\", \"#22a884\", \"#22a884\", \"#22a884\", \"#22a884\", \"#22a884\", \"#22a884\", \"#22a884\", \"#22a884\", \"#22a884\", \"#22a884\", \"#22a884\", \"#22a884\", \"#22a884\", \"#22a884\", \"#22a884\", \"#22a884\", \"#22a884\", \"#22a884\", \"#22a884\", \"#22a884\"], \"line\": {\"width\": 1}, \"size\": 8}, \"mode\": \"markers\", \"name\": \"C\\u00ba3: institucional informacin ms\", \"text\": [\"de abril Da del Libro Desde Editorial<br>Universitaria UCCuyo los invitamos a conocer<br>nuestro sitio y todas las producciones<br>disponibles:\", \"Participando en el er Encuentro de la Red de<br>Comunicacin de la Aprender para mejorar!\", \"Desde la Facultad de Derecho y Ciencias Sociales:<br>Te ofrecemos lo mejor en capacitacin!\", \"Editorial Universitaria UCCuyo Seguimos<br>trabajando... Conoc las actividades institucional<br>y mucho ms! Edicin Octubre Revista Digital<br>Institucional INFO UCCuyo:\", \"La Facultad de Educacin invita a: Jornada Familia<br>y Discapacidad Inscripciones e informacin:\", \"Departamento de Idiomas invita al XXVI Encuentro<br>Plurilingstico La enseanza de las lenguas en la<br>virtualidad. Aciertos, dificultades y propuestas.<br>Ms informacin:\", \"Editorial Universitaria UCCuyo Ya est disponible<br>la nueva Edicin de nuestra Revista Digital<br>Institucional INFO UCCuyo:\", \"INSCRIPCIONES ABIERTAS Cursos y Diplomatura<br>Estudia a distancia Ms informacin<br>campusvirtual.edu.ar\", \"INSCRIPCIONES ABIERTAS Podes capacitarte a<br>distancia en la UCCuyo Ms informacin<br>campusvirtual.edu.ar\", \"Empiezan las clases! Tutoriales para conocer el<br>Campus Virtual: Si necesitas ayuda:\", \"Departamento de Idiomas Ofrece sus cursos a<br>alumnos y comunidad en general. Te esperamos\", \"Ya est disponible! Todas las noticias y<br>actividades universitarias. Revista Digital<br>Institucional:\", \"Todas las noticias y actividades universitarias.<br>Revista Digital Institucional:\", \"La UCCuyo valid en CONEAU su Sistema Institucional<br>de Educacin a Distancia. Ms informacin:\", \"Firman nuevos convenios entre la UCCuyo y la<br>Municipalidad de Rivadavia. Conoc ms:\", \"Docentes, investigadores, alumnos y pblico en<br>general: cursos % on line Ms informacin:<br>campusvirtual.edu.ar\", \"Toda la informacin de la UCCuyo en la Revista<br>Digital Institucional. Ingres:\", \"Cooperacin Internacional junto a organizaciones<br>que promueven el intercambio estudiantil brindaron<br>informacin a los estudiante de la UCCuyo. Ms<br>informacin:\", \"La UCCuyo dictar nuevas para dirigentes y<br>deportistas de la . Con la presencia de<br>autoridades de gobierno y de la fueron presentados<br>en el saln de actos Eloy Camus del Centro Cvico, .<br>Enterate ms en:\", \"Comenzamos con el Curso de preparacin para el ! Ms<br>Info en: idiomas.edu.ar Quers enterarte sobre los<br>idiomas : , , , y ms? Dejanos tus datos ac &gt;\", \"Informamos que en el da de la fecha, las<br>actividades acadmicas son normales en nuestra<br>institucin.\", \"Comenzaron los Seminarios de Adaptacin<br>Universitaria para los de la . El equipo de<br>profesionales de Orientacin Universitaria estuvo<br>con los alumnos ingresantes de la Facultad de<br>Educacin y la Facultad de Filosofa y Humanidades.\", \"Curso abierto \\\" Tcnicas de Expresin Oral y<br>Escrita\\\" :: Inscripciones abiertas :: Inicia el de<br>Marzo. Ms informacin en: coordiposgrado.edu.ar<br>(0264) -2390 o -4136697\", \"en Caucete! Inscripciones abiertas Comienza en<br>Abril. Carreras y cursos semipresenciales. Ms<br>informacin: infocaucete.edu.ar o -2300/429-2332.\"], \"type\": \"scatter3d\", \"x\": [10.718832015991211, 11.607590675354004, 11.746124267578125, 10.656787872314453, 11.526252746582031, 11.592280387878418, 10.70184326171875, 11.374629020690918, 10.991385459899902, 11.21300983428955, 11.68624496459961, 10.743372917175293, 10.833264350891113, 10.996285438537598, 10.922078132629395, 11.305379867553711, 10.645156860351562, 10.992431640625, 10.639225959777832, 11.577234268188477, 11.577204704284668, 11.625489234924316, 11.537810325622559, 11.345870971679688], \"y\": [1.4915794134140015, 1.538656234741211, 1.517072319984436, 1.6861544847488403, 1.6056944131851196, 1.3989611864089966, 1.8285530805587769, 1.6401108503341675, 1.7816585302352905, 2.127568006515503, 1.5025808811187744, 1.9755254983901978, 1.964312195777893, 1.4612277746200562, 1.254813551902771, 1.846064805984497, 1.8201477527618408, 2.100233316421509, 1.4165270328521729, 1.4448834657669067, 1.7714219093322754, 1.6300827264785767, 1.3111999034881592, 1.4071033000946045], \"z\": [9.36637020111084, 10.435230255126953, 9.281269073486328, 9.899213790893555, 9.758223533630371, 10.507603645324707, 10.016331672668457, 10.082731246948242, 9.850706100463867, 9.705992698669434, 10.397314071655273, 10.157971382141113, 10.063789367675781, 9.721282958984375, 8.789421081542969, 9.91379451751709, 10.058281898498535, 9.726012229919434, 8.852916717529297, 10.431244850158691, 9.724509239196777, 9.95504093170166, 10.413057327270508, 10.228703498840332]}, {\"hoverinfo\": \"text\", \"marker\": {\"color\": [\"#21908d\", \"#21908d\", \"#21908d\", \"#21908d\", \"#21908d\", \"#21908d\", \"#21908d\", \"#21908d\", \"#21908d\", \"#21908d\", \"#21908d\", \"#21908d\", \"#21908d\", \"#21908d\", \"#21908d\", \"#21908d\", \"#21908d\", \"#21908d\", \"#21908d\", \"#21908d\", \"#21908d\", \"#21908d\", \"#21908d\", \"#21908d\", \"#21908d\", \"#21908d\", \"#21908d\", \"#21908d\", \"#21908d\", \"#21908d\", \"#21908d\", \"#21908d\", \"#21908d\", \"#21908d\", \"#21908d\"], \"line\": {\"width\": 1}, \"size\": 8}, \"mode\": \"markers\", \"name\": \"C\\u00ba4: juan del san\", \"text\": [\"La Secretara de Extensin y Relaciones<br>Institucionales como integrante de la Mesa de<br>Responsabilidad Social de la provincia de San Juan<br>invita a la: * V Jornada Provincial de<br>Responsabilidad Social Inscripcin:\", \"Escuela de Cultura Religiosa y Pastoral<br>dependiente del Vicerrectorado: Destinatarios:<br>docentes, alumnos, catequistas, agentes<br>pastorales, seminaristas, sacerdotes, misioneros y<br>pblico en general. Pre- inscripcin:<br>a.v.formacion.edu.ar\", \"Retom sus actividades la Mesa Provincial de<br>Responsabilidad Social. La UCCuyo integra la Mesa<br>Provincial de Responsabilidad Social de manera<br>activa desde su constitucin en el mes de<br>septiembre de . Conoc ms:\", \"Investigacin y Desarrollo Un grupo de cientficos<br>sanjuaninos, integrantes del Instituto de Ciencias<br>Biomdicas de la Universidad Catlica de Cuyo,<br>participaron de un estudio internacional en la<br>lucha contra el Alzheimer.\", \"Diplomatura Iberoamericana en Comunicacin de la<br>Iglesia. % online\", \"Investigacin y Desarrollo Aporte de la UCCuyo al<br>mejoramiento gentico de la raza caprina en Cuyo:<br>desarrollo pecuario en La Tranca, Encn y El<br>Forzudo Universidad Catlica de Cuyo - Sede San<br>Luis Conoc :\", \"El Ministerio de Salud de la provincia de San Juan<br>autoriz, por pedido de la Facultad de Ciencias<br>Mdicas, la concurrencia de los alumnos a las aulas<br>y a los hospitales y centros de salud. Ms<br>informacin:\", \"Natalicio del Dr. Horacio Videla. Intelectual<br>sanjuanino y precursor junto a Mons. Manfredi de<br>la UCCuyo, don su casa y propiedad intelectual a<br>esta universidad para mantener su legado y<br>continuar as con la formacin y crecimiento de toda<br>la comunidad.\", \"A travs de la Facultad de Filosofa y Humanidades<br>se di inicio al Programa de Entrenamiento en<br>Afrontamiento del Estrs y Gestin de las Emociones<br>destinado a integrantes de la Polica de San Juan.<br>Ms informacin:\", \"Escuela de Cultura Religiosa y Pastoral<br>dependiente del Vicerrectorado de Formacin<br>Webinar: Los derechos humanos en torno a la vida:<br>ID de reunin: Cdigo de acceso: Informes:<br>cultura.edu.ar\", \"Seminario de Investigacin UCCuyo Ejes temticos<br>Ciencias econmicas y jurdicas. Ciencias biolgicas<br>y de la salud. Ciencias humanas. Informes:<br>investigacion.edu.ar\", \"Diplomatura Universitaria en Atencin Gerontolgica<br>Integral. La Facultad de Filosofa y Humanidades<br>acord con el Ministerio de Desarrollo Humano<br>promover la formacin de cuidadores domiciliarios.<br>Ms informacin:\", \"La Dra. Diana Bruno del IIPBA de la Facultad de<br>Filosofia y Humanidades form parte del equipo de<br>profesionales investigadores que obtuvieron el<br>primer puesto en un Hackathon organizado por la<br>Embajada de Israel:\", \"Firma de convenio con la Secretara de Ciencia,<br>Tecnologa e Innovacin de la provincia de San Juan<br>para dictar capacitacin en lengua inglesa a<br>agentes provinciales.\", \"La Facultad de Derecho y Ciencias Sociales de la<br>UCCuyo junto a la Defensora del Pueblo de San Juan<br>invitan a la charla. Unirse al zoom:\", \"La comunidad educativa de la UCCuyo saluda en su<br>Da al Dr. Claudio Marcelo Larrea Arnau.\", \"Seguimos en el Ciclo de Conferencias propuestas<br>por la Facultad de Derecho y Ciencias Sociales.\", \"Alumnos de las tres sedes de la UCCuyo fueron<br>beneficiados con diferentes becas que otorga el<br>Banco Santander Ro. Conoc ms:\", \"Nueva propuesta de actualizacin junto a la Corte<br>de Justicia de San Juan. Inscripciones:\", \"Acuerdo San Juan Participamos del Programa de<br>Gobierno provincial al cual nos convocaron para<br>seguir colaborando en el desarrollo y crecimiento<br>de nuestra comunidad\", \"Editorial Universitaria UCCuyo Present el libro El<br>cristianismo en la historia: pasin por el hombre<br>cuyo autor es el Vice Rector de Formacin Presbtero<br>Jos Juan Garcia.\", \"Con el taller del Consejo Planificacin Estratgica<br>SJ , culmin la Diplomatura en Lderes Sociales de<br>la Facultad de Filosofa y Humanidades y Secretara<br>Extensin y RRII- UCCuyo junto con Critas SJ y<br>Comisin Arquidiocesana de Justicia y Paz del<br>Arzobispado SJ de Cuyo.\", \"La Defensora del Pueblo de San Juan junto a la<br>Facultad de Derecho y Ciencias Sociales de la<br>Universidad Catlica de Cuyo firmaron un acuerdo<br>marco de cooperacin acadmica.\", \"Se realizaron en sede San San Juan las Jornadas<br>institucionales Dilogos UCCuyo finalizando as las<br>reuniones para la elaboracin del Plan de<br>Desarrollo Institucional.\", \"En este Da del Estudiante compartimos la historia<br>de gran valenta de Gabriela.\", \"Docente de la UCCuyo es electa como presidente de<br>organismo Internacional de Estudios Patristicos.<br>Conoce :\", \"La UCCuyo particip del Coloquio Desafos de la<br>Educacin Catlica en la sede de la Universidad<br>Catlica Argentina. Ms informacin:\", \"Por una Cultura del Encuentro. Entrega de<br>certificados: Resignificando la enseanza\\\" de la<br>Facultad de Educacin e \\\"Introduccin a la cultura<br>Popular\\\" otorgado por a los agentes del Servicio<br>Penitenciario de San Juan gestionado por\", \"Se presentaron los librosVida moral en los padres<br>de la Iglesia: su presencia hoy del Pbro. Dr. Jos<br>Juan Garca y La libertad en los escritores de<br>orgenes del Pbro. Leonardo Pons en el Centro de<br>Estudios Dr. Horacio Videla. Ms informacin:\", \"VIII DISPUTATIO Universitaria Sanjuanina Disfrutar<br>y enriquecer conocimientos debatiendo temas:<br>filosficos, jurdicos, polticos y teolgicos.<br>Inscripciones abiertas: marceladelcarril.com<br>n.torres.com.ar -455614\", \"Trabajo interdisciplinario de la UCCuyo con su<br>Facultad Ciencias Mdicas y Facultad de Filosofa y<br>Humanidades en la Residencia de Adultos Mayores<br>Eva Pern que suma al bienestar y desarrollo de la<br>comunidad de San Juan. Ms informacin:\", \"Fuerte apuesta a la formacin de Lderes Sociales<br>desde la UCCuyo Facultad de Filosofa y Humanidades<br>- UCCuyo San Juan Ms Informacin:\", \"Apertura de las Jornadas preparatorias del XXX<br>Congreso Nacional de Derecho Procesal-Facultad de<br>Derecho UCCuyo-Poder Judicial de San Juan.\", \"La cens a clubes y entidades deportivas de .<br>Actividad llevada a cabo por la ctedra<br>Psicoestadstica de la Licenciatura en de la<br>Facultad de y . Le la nota aqu &gt;\", \"Voluntarios de la UCCuyo en CUVHONI En un nuevo<br>acercamiento, la UCCuyo acord con CUVHONI, Cuerpo<br>de Voluntarios del Hospital de Nios Juan Carlos<br>Navarro, desarrollar su Programa de Papa<br>Francisco. Conoc ms en la nota:\"], \"type\": \"scatter3d\", \"x\": [12.185799598693848, 11.312178611755371, 12.076172828674316, 10.396263122558594, 11.244473457336426, 10.703673362731934, 11.74772834777832, 10.892078399658203, 11.916901588439941, 11.131091117858887, 11.047884941101074, 11.61502456665039, 11.610377311706543, 11.774687767028809, 11.871505737304688, 11.164628982543945, 11.551438331604004, 11.111079216003418, 11.450248718261719, 11.986221313476562, 11.386775970458984, 11.475364685058594, 12.09587574005127, 11.9162015914917, 11.880945205688477, 11.049236297607422, 11.27548885345459, 11.65560531616211, 11.327173233032227, 11.429681777954102, 12.000421524047852, 11.72507381439209, 11.56567668914795, 11.5360689163208, 11.10886001586914], \"y\": [0.44303977489471436, 0.3459336757659912, 0.5105170011520386, -0.017665332183241844, 0.09883823245763779, 0.23253776133060455, 0.24289296567440033, 0.4664103090763092, 0.8065142631530762, 0.5343630909919739, 0.7769547700881958, 0.9305843710899353, 0.8849793076515198, 0.9193859100341797, 0.908822238445282, 0.37247347831726074, 1.4654618501663208, 0.40728580951690674, 0.5243382453918457, 0.7122781276702881, 0.3069569766521454, 0.7894918918609619, 0.6973738074302673, 0.5712535977363586, 1.3198144435882568, 0.49369093775749207, 0.32680436968803406, 0.776852011680603, 0.34223315119743347, 0.43851593136787415, 0.5606995820999146, 0.9001454710960388, 0.32777002453804016, 1.5116446018218994, 0.30664774775505066], \"z\": [8.47998046875, 9.732653617858887, 8.34036636352539, 9.038846015930176, 9.400474548339844, 8.96082592010498, 8.635461807250977, 8.86790657043457, 9.117847442626953, 9.843606948852539, 9.345568656921387, 9.390295028686523, 9.315075874328613, 8.26571273803711, 9.008158683776855, 9.205194473266602, 9.095279693603516, 8.98596477508545, 8.365962028503418, 7.9665446281433105, 9.716818809509277, 9.217813491821289, 8.550795555114746, 8.327032089233398, 9.368854522705078, 8.985933303833008, 9.106608390808105, 8.725738525390625, 9.854972839355469, 9.500234603881836, 8.808693885803223, 9.197824478149414, 8.541200637817383, 8.881582260131836, 8.712529182434082]}, {\"hoverinfo\": \"text\", \"marker\": {\"color\": [\"#2a788e\", \"#2a788e\", \"#2a788e\", \"#2a788e\", \"#2a788e\", \"#2a788e\", \"#2a788e\", \"#2a788e\", \"#2a788e\", \"#2a788e\", \"#2a788e\", \"#2a788e\", \"#2a788e\", \"#2a788e\", \"#2a788e\", \"#2a788e\", \"#2a788e\"], \"line\": {\"width\": 1}, \"size\": 8}, \"mode\": \"markers\", \"name\": \"C\\u00ba5: valor esperanza amor\", \"text\": [\"Felices Pascuas! Celebremos a Jess en nuestros<br>corazones. Dios Fortalece nuestra F y renueva la<br>Esperanza!\", \"Celebramos la vida desde su concepcin.\", \"El futuro tambin es hoy! Valor Amor y Respeto en<br>cada accin que construye un mundo mejor.\", \"... La Navidad tiene sobre todo esperanza... el<br>sentido luminoso de la vida...\", \"Reconocemos y ponemos en valor la Diversidad<br>Cultural de nuestro gran continente.\", \"Nos sumamos a las celebraciones de los aos de<br>RADU. Webinar Investigacin universitaria en<br>tiempos de pandemia. Los esperamos!\", \"Celebremos la Patria!\", \"Felices Pascuas! La Gloria del milagro de nuestro<br>Dios fortalece nuestra F y renueva la Esperanza.\", \"Semana Santa Puedes acceder a las celebraciones de<br>todo la semana:\", \"Celebramos la vida desde su concepcin\", \"de marzo-Da Internacional de la Mujer-Valor Amor y<br>Respeto en cada accin que construye un mundo<br>mejor.\", \"Sigamos renovando nuestros deseos de amor y<br>esperanza para un mundo mejor Felices Fiestas!\", \"La Celebracin del Aniversario se llev a cabo<br>conjuntamente con el Acto de colacin de grado de<br>la Facultad de Cs. Econmicas y Empresariales. Se<br>conmemor a egresados con aos de graduados,<br>docentes con aos de ejercicio y a personal<br>administrativo jubilado.\", \"Cooperacin Internacional Invita a conocer las<br>oportunidades de formacin\", \"[2 de Abril] Da del Veterano y Cados en la Guerra<br>de Malvinas. Un da para conmemorar a los<br>protagonistas de la historia.\", \"[25 de Marzo] Da del Nio por Nacer. Celebramos la<br>vida desde su concepcin.\", \"de Marzo, Da Internacional de la Mujer. Valor,<br>amor y respeto en cada accin que construye un<br>mundo mejor.\"], \"type\": \"scatter3d\", \"x\": [9.03969955444336, 9.12513542175293, 9.011347770690918, 8.929656028747559, 9.398515701293945, 9.624194145202637, 9.456639289855957, 9.075628280639648, 8.9891996383667, 9.200201034545898, 9.330711364746094, 9.01513385772705, 9.440938949584961, 9.60915756225586, 9.198051452636719, 9.157428741455078, 9.342497825622559], \"y\": [1.8349168300628662, 2.1303956508636475, 1.8543329238891602, 2.019820213317871, 1.888667345046997, 1.5086026191711426, 2.014647960662842, 1.8188894987106323, 1.878203272819519, 2.258226156234741, 1.828961968421936, 2.0367965698242188, 1.746169090270996, 1.7587072849273682, 2.297011613845825, 1.8512539863586426, 1.842699408531189], \"z\": [6.996440887451172, 7.240394592285156, 7.741049289703369, 7.0216898918151855, 7.7963409423828125, 7.69498872756958, 6.897540092468262, 6.874412536621094, 6.937869071960449, 7.253816604614258, 7.715109825134277, 7.162790298461914, 7.104638576507568, 8.206992149353027, 6.811829090118408, 7.265305042266846, 7.763180732727051]}, {\"hoverinfo\": \"text\", \"marker\": {\"color\": [\"#355f8d\", \"#355f8d\", \"#355f8d\", \"#355f8d\", \"#355f8d\", \"#355f8d\", \"#355f8d\", \"#355f8d\", \"#355f8d\", \"#355f8d\", \"#355f8d\", \"#355f8d\", \"#355f8d\", \"#355f8d\", \"#355f8d\", \"#355f8d\", \"#355f8d\", \"#355f8d\", \"#355f8d\", \"#355f8d\", \"#355f8d\", \"#355f8d\", \"#355f8d\", \"#355f8d\", \"#355f8d\", \"#355f8d\", \"#355f8d\", \"#355f8d\", \"#355f8d\", \"#355f8d\"], \"line\": {\"width\": 1}, \"size\": 8}, \"mode\": \"markers\", \"name\": \"C\\u00ba6: inscripcin ests hs\", \"text\": [\"de Mayo Da Internacional de los Museos Te<br>invitamos a Mascareando el museo nformes:<br>gestionmuseos.edu.ar\", \"Conversatorio Objecin de Conciencia y<br>Responsabilidad del Mdico frente al Nio por Nacer.<br>Destinatarios: mdicos, estudiantes de medicina.<br>reunin Zoom: ID de reunin: Cdigo de acceso:\", \"Ya est publicada! Revista Cuadernos N7: Comunicar<br>la Ciencia en Pandemia Docentes e investigadores<br>de la UCCuyo comparten sus producciones<br>cientficas.\", \"La Secretara de Extensin y Relaciones<br>Institucionales desde el Comit de Integracin \\\"Paso<br>Internacional de Agua Negra\\\" invita a participar:<br>Link de inscripcin: Link conexin:\", \"Conversatorio virtual Jueves de noviembre hs.<br>Inscripcin: De autoridades y equipos de gestin<br>(google forms) De participantes (eventbrite)\", \"Pone tu futuro en accin Conoc todo lo que tenemos<br>para vos! Ms informacin: ofertaacademica.edu.ar\", \"Nueva oportunidad! Ms opciones en tu formacin<br>profesional. Propuesta % on line\", \"Jornadas de Actualizacin de Te esperamos<br>Inscribte:\", \"Invitamos al Gran Evento Olivcola Capacitaciones<br>virtuales. Con inscripcin previa: Informes:<br>dircomexterior.com\", \"Ests a tiempo de ser parte del futuro Ms opciones<br>en tu formacin profesional. Propuesta % on line\", \"Hola! No tenemos dicha informacin como cierta. Sin<br>embargo puedes sacarte tus dudas o inquietudes<br>comunicndote con la carrera<br>directorapsicologia.edu.ar\", \"Invitamos a la conferencia virtual sobre La<br>educacin Superior en tiempos de pandemia. de julio<br>- hs Inscripcin gratuita en Acceso:\", \"Sumate! Ciclo de Conferencias de la\", \"Smate a la actualizacin.\", \"Museo y Biblioteca \\\"Hnos. Nacif Weiss\\\" Hoy te<br>invitamos a realizar un recorrido virtual\", \"Tomar la realidad y compartirla para ayudar a<br>entenderla como bsqueda de la verdad con tica y<br>credibilidad.\", \"Informacin importante\", \"Ven y smate a la Experiencia Endeavor<br>CuyoEmprender con Impacto Jueves de octubre<br>Auditorio Eloy Camus- Centro Cvico hs\", \"er Jornada INNOVATUR, con el eje central enmarcado<br>en el lema de la OMT para el \\\"Turismo y Empleo: Un<br>futuro mejor para todos\\\" Las inscripciones estn<br>abiertas en Eventbrite, y pods solicitar tu<br>inscripcin ahora en este link:\", \"Conoc todas las carreras que tenemos para vos! Ven<br>a las Jornadas de Puertas Abiertas de la UCCuyo!<br>Da: Viernes de Agosto Lugar: Secretara de Extensin<br>Hora: hs.\", \"Gestiona los nuevos conocimientos y provoca el<br>cambio: Maestria en Gestin de Nuevas Tecnologas en<br>Comunciacin. Ms opciones en tu formacin<br>profesional. Ms informacin:\", \"Diplomatura en , y Profesionalizacin de la ::<br>Duracin: meses Inicia: Abril Mdulos: cada das Das:<br>Viernes de a hs./ Sbado de a hs. Ms informacin:<br>diploempresasfamiliaressj.com\", \"CPRES Nuevo Cuyo. Fijan las lneas prioritarias de<br>trabajo para el presente ao. Ver nota completa<br>&gt;\", \"[19 de marzo] Da de San Jos obrero.\", \"Ests a tiempo de sumarte! :: Lic. en Educacin<br>Inclusiva :: Ms info: educacion.edu.ar Inscripcin:<br>Ms informacin:\", \"Ests a tiempo de sumarte! :: Lic. en Psicopedagoga<br>:: Duracin: aos Inscripcin: Ms informacin:\", \"Ests a tiempo de sumarte! :: Lic. en Terapia<br>Ocupacional :: Duracin: aos Inscripcin: Ms<br>informacin:\", \"Arranca el primer cuatrimestre Buen comienzo para<br>todos!\", \"Ests a tiempo de sumarte! Lic. en Recursos Humanos<br>:: Duracin: aos Inscripcin: Ms informacin:\", \"Ests a tiempo de sumarte! Lic. en Gestin Ambiental<br>:: Duracin: aos Inscripcin: Ms informacin:\"], \"type\": \"scatter3d\", \"x\": [9.761202812194824, 9.754373550415039, 9.621152877807617, 9.533308029174805, 9.92218017578125, 9.390873908996582, 8.935162544250488, 8.953689575195312, 9.896201133728027, 9.059900283813477, 8.853738784790039, 9.873873710632324, 9.802956581115723, 8.785748481750488, 9.832643508911133, 8.627923011779785, 8.815534591674805, 9.78879451751709, 9.274843215942383, 9.64028263092041, 9.062660217285156, 9.024537086486816, 9.254103660583496, 9.41030502319336, 8.610201835632324, 8.624072074890137, 8.593416213989258, 8.765204429626465, 8.696907997131348, 8.919806480407715], \"y\": [1.798003911972046, 0.8736070990562439, 0.6093795299530029, 0.9758691191673279, 1.6023799180984497, 1.345497727394104, 1.585269808769226, 1.518741488456726, 1.7254055738449097, 1.6330376863479614, 1.0512819290161133, 1.3524096012115479, 1.5837050676345825, 1.481569766998291, 1.7322615385055542, 1.2421197891235352, 1.082525610923767, 1.6593327522277832, 1.523032784461975, 1.3138943910598755, 1.2284187078475952, 1.1579443216323853, 1.1022465229034424, 1.4552286863327026, 1.146501064300537, 1.2167013883590698, 1.3201735019683838, 1.46886146068573, 1.247586965560913, 1.1119273900985718], \"z\": [9.373459815979004, 9.072145462036133, 8.687687873840332, 8.76502799987793, 9.483240127563477, 8.596267700195312, 8.535564422607422, 8.446344375610352, 9.278648376464844, 8.649763107299805, 8.616666793823242, 9.181419372558594, 8.455942153930664, 8.450556755065918, 9.355138778686523, 8.210579872131348, 8.318826675415039, 8.884267807006836, 8.80959701538086, 8.346355438232422, 9.296804428100586, 9.02815055847168, 8.428980827331543, 8.455915451049805, 9.135403633117676, 9.00636100769043, 8.983421325683594, 8.16097640991211, 8.893793106079102, 8.865429878234863]}],\n",
              "                        {\"autosize\": false, \"height\": 800, \"scene\": {\"aspectmode\": \"cube\"}, \"showlegend\": true, \"template\": {\"data\": {\"bar\": [{\"error_x\": {\"color\": \"#2a3f5f\"}, \"error_y\": {\"color\": \"#2a3f5f\"}, \"marker\": {\"line\": {\"color\": \"#E5ECF6\", \"width\": 0.5}}, \"type\": \"bar\"}], \"barpolar\": [{\"marker\": {\"line\": {\"color\": \"#E5ECF6\", \"width\": 0.5}}, \"type\": \"barpolar\"}], \"carpet\": [{\"aaxis\": {\"endlinecolor\": \"#2a3f5f\", \"gridcolor\": \"white\", \"linecolor\": \"white\", \"minorgridcolor\": \"white\", \"startlinecolor\": \"#2a3f5f\"}, \"baxis\": {\"endlinecolor\": \"#2a3f5f\", \"gridcolor\": \"white\", \"linecolor\": \"white\", \"minorgridcolor\": \"white\", \"startlinecolor\": \"#2a3f5f\"}, \"type\": \"carpet\"}], \"choropleth\": [{\"colorbar\": {\"outlinewidth\": 0, \"ticks\": \"\"}, \"type\": \"choropleth\"}], \"contour\": [{\"colorbar\": {\"outlinewidth\": 0, \"ticks\": \"\"}, \"colorscale\": [[0.0, \"#0d0887\"], [0.1111111111111111, \"#46039f\"], [0.2222222222222222, \"#7201a8\"], [0.3333333333333333, \"#9c179e\"], [0.4444444444444444, \"#bd3786\"], [0.5555555555555556, \"#d8576b\"], [0.6666666666666666, \"#ed7953\"], [0.7777777777777778, \"#fb9f3a\"], [0.8888888888888888, \"#fdca26\"], [1.0, \"#f0f921\"]], \"type\": \"contour\"}], \"contourcarpet\": [{\"colorbar\": {\"outlinewidth\": 0, \"ticks\": \"\"}, \"type\": \"contourcarpet\"}], \"heatmap\": [{\"colorbar\": {\"outlinewidth\": 0, \"ticks\": \"\"}, \"colorscale\": [[0.0, \"#0d0887\"], [0.1111111111111111, \"#46039f\"], [0.2222222222222222, \"#7201a8\"], [0.3333333333333333, \"#9c179e\"], [0.4444444444444444, \"#bd3786\"], [0.5555555555555556, \"#d8576b\"], [0.6666666666666666, \"#ed7953\"], [0.7777777777777778, \"#fb9f3a\"], [0.8888888888888888, \"#fdca26\"], [1.0, \"#f0f921\"]], \"type\": \"heatmap\"}], \"heatmapgl\": [{\"colorbar\": {\"outlinewidth\": 0, \"ticks\": \"\"}, \"colorscale\": [[0.0, \"#0d0887\"], [0.1111111111111111, \"#46039f\"], [0.2222222222222222, \"#7201a8\"], [0.3333333333333333, \"#9c179e\"], [0.4444444444444444, \"#bd3786\"], [0.5555555555555556, \"#d8576b\"], [0.6666666666666666, \"#ed7953\"], [0.7777777777777778, \"#fb9f3a\"], [0.8888888888888888, \"#fdca26\"], [1.0, \"#f0f921\"]], \"type\": \"heatmapgl\"}], \"histogram\": [{\"marker\": {\"colorbar\": {\"outlinewidth\": 0, \"ticks\": \"\"}}, \"type\": \"histogram\"}], \"histogram2d\": [{\"colorbar\": {\"outlinewidth\": 0, \"ticks\": \"\"}, \"colorscale\": [[0.0, \"#0d0887\"], [0.1111111111111111, \"#46039f\"], [0.2222222222222222, \"#7201a8\"], [0.3333333333333333, \"#9c179e\"], [0.4444444444444444, \"#bd3786\"], [0.5555555555555556, \"#d8576b\"], [0.6666666666666666, \"#ed7953\"], [0.7777777777777778, \"#fb9f3a\"], [0.8888888888888888, \"#fdca26\"], [1.0, \"#f0f921\"]], \"type\": \"histogram2d\"}], \"histogram2dcontour\": [{\"colorbar\": {\"outlinewidth\": 0, \"ticks\": \"\"}, \"colorscale\": [[0.0, \"#0d0887\"], [0.1111111111111111, \"#46039f\"], [0.2222222222222222, \"#7201a8\"], [0.3333333333333333, \"#9c179e\"], [0.4444444444444444, \"#bd3786\"], [0.5555555555555556, \"#d8576b\"], [0.6666666666666666, \"#ed7953\"], [0.7777777777777778, \"#fb9f3a\"], [0.8888888888888888, \"#fdca26\"], [1.0, \"#f0f921\"]], \"type\": \"histogram2dcontour\"}], \"mesh3d\": [{\"colorbar\": {\"outlinewidth\": 0, \"ticks\": \"\"}, \"type\": \"mesh3d\"}], \"parcoords\": [{\"line\": {\"colorbar\": {\"outlinewidth\": 0, \"ticks\": \"\"}}, \"type\": \"parcoords\"}], \"pie\": [{\"automargin\": true, \"type\": \"pie\"}], \"scatter\": [{\"marker\": {\"colorbar\": {\"outlinewidth\": 0, \"ticks\": \"\"}}, \"type\": \"scatter\"}], \"scatter3d\": [{\"line\": {\"colorbar\": {\"outlinewidth\": 0, \"ticks\": \"\"}}, \"marker\": {\"colorbar\": {\"outlinewidth\": 0, \"ticks\": \"\"}}, \"type\": \"scatter3d\"}], \"scattercarpet\": [{\"marker\": {\"colorbar\": {\"outlinewidth\": 0, \"ticks\": \"\"}}, \"type\": \"scattercarpet\"}], \"scattergeo\": [{\"marker\": {\"colorbar\": {\"outlinewidth\": 0, \"ticks\": \"\"}}, \"type\": \"scattergeo\"}], \"scattergl\": [{\"marker\": {\"colorbar\": {\"outlinewidth\": 0, \"ticks\": \"\"}}, \"type\": \"scattergl\"}], \"scattermapbox\": [{\"marker\": {\"colorbar\": {\"outlinewidth\": 0, \"ticks\": \"\"}}, \"type\": \"scattermapbox\"}], \"scatterpolar\": [{\"marker\": {\"colorbar\": {\"outlinewidth\": 0, \"ticks\": \"\"}}, \"type\": \"scatterpolar\"}], \"scatterpolargl\": [{\"marker\": {\"colorbar\": {\"outlinewidth\": 0, \"ticks\": \"\"}}, \"type\": \"scatterpolargl\"}], \"scatterternary\": [{\"marker\": {\"colorbar\": {\"outlinewidth\": 0, \"ticks\": \"\"}}, \"type\": \"scatterternary\"}], \"surface\": [{\"colorbar\": {\"outlinewidth\": 0, \"ticks\": \"\"}, \"colorscale\": [[0.0, \"#0d0887\"], [0.1111111111111111, \"#46039f\"], [0.2222222222222222, \"#7201a8\"], [0.3333333333333333, \"#9c179e\"], [0.4444444444444444, \"#bd3786\"], [0.5555555555555556, \"#d8576b\"], [0.6666666666666666, \"#ed7953\"], [0.7777777777777778, \"#fb9f3a\"], [0.8888888888888888, \"#fdca26\"], [1.0, \"#f0f921\"]], \"type\": \"surface\"}], \"table\": [{\"cells\": {\"fill\": {\"color\": \"#EBF0F8\"}, \"line\": {\"color\": \"white\"}}, \"header\": {\"fill\": {\"color\": \"#C8D4E3\"}, \"line\": {\"color\": \"white\"}}, \"type\": \"table\"}]}, \"layout\": {\"annotationdefaults\": {\"arrowcolor\": \"#2a3f5f\", \"arrowhead\": 0, \"arrowwidth\": 1}, \"coloraxis\": {\"colorbar\": {\"outlinewidth\": 0, \"ticks\": \"\"}}, \"colorscale\": {\"diverging\": [[0, \"#8e0152\"], [0.1, \"#c51b7d\"], [0.2, \"#de77ae\"], [0.3, \"#f1b6da\"], [0.4, \"#fde0ef\"], [0.5, \"#f7f7f7\"], [0.6, \"#e6f5d0\"], [0.7, \"#b8e186\"], [0.8, \"#7fbc41\"], [0.9, \"#4d9221\"], [1, \"#276419\"]], \"sequential\": [[0.0, \"#0d0887\"], [0.1111111111111111, \"#46039f\"], [0.2222222222222222, \"#7201a8\"], [0.3333333333333333, \"#9c179e\"], [0.4444444444444444, \"#bd3786\"], [0.5555555555555556, \"#d8576b\"], [0.6666666666666666, \"#ed7953\"], [0.7777777777777778, \"#fb9f3a\"], [0.8888888888888888, \"#fdca26\"], [1.0, \"#f0f921\"]], \"sequentialminus\": [[0.0, \"#0d0887\"], [0.1111111111111111, \"#46039f\"], [0.2222222222222222, \"#7201a8\"], [0.3333333333333333, \"#9c179e\"], [0.4444444444444444, \"#bd3786\"], [0.5555555555555556, \"#d8576b\"], [0.6666666666666666, \"#ed7953\"], [0.7777777777777778, \"#fb9f3a\"], [0.8888888888888888, \"#fdca26\"], [1.0, \"#f0f921\"]]}, \"colorway\": [\"#636efa\", \"#EF553B\", \"#00cc96\", \"#ab63fa\", \"#FFA15A\", \"#19d3f3\", \"#FF6692\", \"#B6E880\", \"#FF97FF\", \"#FECB52\"], \"font\": {\"color\": \"#2a3f5f\"}, \"geo\": {\"bgcolor\": \"white\", \"lakecolor\": \"white\", \"landcolor\": \"#E5ECF6\", \"showlakes\": true, \"showland\": true, \"subunitcolor\": \"white\"}, \"hoverlabel\": {\"align\": \"left\"}, \"hovermode\": \"closest\", \"mapbox\": {\"style\": \"light\"}, \"paper_bgcolor\": \"white\", \"plot_bgcolor\": \"#E5ECF6\", \"polar\": {\"angularaxis\": {\"gridcolor\": \"white\", \"linecolor\": \"white\", \"ticks\": \"\"}, \"bgcolor\": \"#E5ECF6\", \"radialaxis\": {\"gridcolor\": \"white\", \"linecolor\": \"white\", \"ticks\": \"\"}}, \"scene\": {\"xaxis\": {\"backgroundcolor\": \"#E5ECF6\", \"gridcolor\": \"white\", \"gridwidth\": 2, \"linecolor\": \"white\", \"showbackground\": true, \"ticks\": \"\", \"zerolinecolor\": \"white\"}, \"yaxis\": {\"backgroundcolor\": \"#E5ECF6\", \"gridcolor\": \"white\", \"gridwidth\": 2, \"linecolor\": \"white\", \"showbackground\": true, \"ticks\": \"\", \"zerolinecolor\": \"white\"}, \"zaxis\": {\"backgroundcolor\": \"#E5ECF6\", \"gridcolor\": \"white\", \"gridwidth\": 2, \"linecolor\": \"white\", \"showbackground\": true, \"ticks\": \"\", \"zerolinecolor\": \"white\"}}, \"shapedefaults\": {\"line\": {\"color\": \"#2a3f5f\"}}, \"ternary\": {\"aaxis\": {\"gridcolor\": \"white\", \"linecolor\": \"white\", \"ticks\": \"\"}, \"baxis\": {\"gridcolor\": \"white\", \"linecolor\": \"white\", \"ticks\": \"\"}, \"bgcolor\": \"#E5ECF6\", \"caxis\": {\"gridcolor\": \"white\", \"linecolor\": \"white\", \"ticks\": \"\"}}, \"title\": {\"x\": 0.05}, \"xaxis\": {\"automargin\": true, \"gridcolor\": \"white\", \"linecolor\": \"white\", \"ticks\": \"\", \"title\": {\"standoff\": 15}, \"zerolinecolor\": \"white\", \"zerolinewidth\": 2}, \"yaxis\": {\"automargin\": true, \"gridcolor\": \"white\", \"linecolor\": \"white\", \"ticks\": \"\", \"title\": {\"standoff\": 15}, \"zerolinecolor\": \"white\", \"zerolinewidth\": 2}}}, \"width\": 1000},\n",
              "                        {\"responsive\": true}\n",
              "                    ).then(function(){\n",
              "                            \n",
              "var gd = document.getElementById('1076f676-6d8a-4569-a8af-70f235ec5754');\n",
              "var x = new MutationObserver(function (mutations, observer) {{\n",
              "        var display = window.getComputedStyle(gd).display;\n",
              "        if (!display || display === 'none') {{\n",
              "            console.log([gd, 'removed!']);\n",
              "            Plotly.purge(gd);\n",
              "            observer.disconnect();\n",
              "        }}\n",
              "}});\n",
              "\n",
              "// Listen for the removal of the full notebook cells\n",
              "var notebookContainer = gd.closest('#notebook-container');\n",
              "if (notebookContainer) {{\n",
              "    x.observe(notebookContainer, {childList: true});\n",
              "}}\n",
              "\n",
              "// Listen for the clearing of the current output cell\n",
              "var outputEl = gd.closest('.output');\n",
              "if (outputEl) {{\n",
              "    x.observe(outputEl, {childList: true});\n",
              "}}\n",
              "\n",
              "                        })\n",
              "                };\n",
              "                \n",
              "            </script>\n",
              "        </div>\n",
              "</body>\n",
              "</html>"
            ]
          },
          "metadata": {
            "tags": []
          }
        }
      ]
    },
    {
      "cell_type": "code",
      "metadata": {
        "cellView": "form",
        "colab": {
          "base_uri": "https://localhost:8080/",
          "height": 463
        },
        "id": "YOHgwz1T6SMD",
        "outputId": "9b1d6d30-a7cd-4d04-9015-6aeff908ef50"
      },
      "source": [
        "#@title Word Cloud\n",
        "img_url = \"https://toppng.com/uploads/preview/human-brain-png-high-quality-image-brain-clipart-115630224411rqb2dvotv.png\"\n",
        "text = \" \".join(twint.output.panda.Tweets_df[\"tweet\"].tolist())\n",
        "make_cloud(text, img_url);"
      ],
      "execution_count": null,
      "outputs": [
        {
          "output_type": "display_data",
          "data": {
            "image/png": "[encoded data removed]",
            "text/plain": [
              "<Figure size 432x432 with 1 Axes>"
            ]
          },
          "metadata": {
            "tags": [],
            "needs_background": "light"
          }
        }
      ]
    },
    {
      "cell_type": "code",
      "metadata": {
        "id": "NY5dLOoySV-D"
      },
      "source": [
        "df = pd.read_csv('https://unket.s3-sa-east-1.amazonaws.com/data/tweets_uccuyo.csv')"
      ],
      "execution_count": null,
      "outputs": []
    },
    {
      "cell_type": "code",
      "metadata": {
        "colab": {
          "base_uri": "https://localhost:8080/",
          "height": 517
        },
        "id": "xRr-EeipQIvB",
        "outputId": "bb8ea0f6-652f-49f1-e528-ceb3966177bd"
      },
      "source": [
        "df.head()"
      ],
      "execution_count": null,
      "outputs": [
        {
          "output_type": "execute_result",
          "data": {
            "text/html": [
              "<div>\n",
              "<style scoped>\n",
              "    .dataframe tbody tr th:only-of-type {\n",
              "        vertical-align: middle;\n",
              "    }\n",
              "\n",
              "    .dataframe tbody tr th {\n",
              "        vertical-align: top;\n",
              "    }\n",
              "\n",
              "    .dataframe thead th {\n",
              "        text-align: right;\n",
              "    }\n",
              "</style>\n",
              "<table border=\"1\" class=\"dataframe\">\n",
              "  <thead>\n",
              "    <tr style=\"text-align: right;\">\n",
              "      <th></th>\n",
              "      <th>id</th>\n",
              "      <th>conversation_id</th>\n",
              "      <th>created_at</th>\n",
              "      <th>date</th>\n",
              "      <th>timezone</th>\n",
              "      <th>place</th>\n",
              "      <th>tweet</th>\n",
              "      <th>language</th>\n",
              "      <th>hashtags</th>\n",
              "      <th>cashtags</th>\n",
              "      <th>user_id</th>\n",
              "      <th>user_id_str</th>\n",
              "      <th>username</th>\n",
              "      <th>name</th>\n",
              "      <th>day</th>\n",
              "      <th>hour</th>\n",
              "      <th>link</th>\n",
              "      <th>urls</th>\n",
              "      <th>photos</th>\n",
              "      <th>video</th>\n",
              "      <th>thumbnail</th>\n",
              "      <th>retweet</th>\n",
              "      <th>nlikes</th>\n",
              "      <th>nreplies</th>\n",
              "      <th>nretweets</th>\n",
              "      <th>quote_url</th>\n",
              "      <th>search</th>\n",
              "      <th>near</th>\n",
              "      <th>geo</th>\n",
              "      <th>source</th>\n",
              "      <th>user_rt_id</th>\n",
              "      <th>user_rt</th>\n",
              "      <th>retweet_id</th>\n",
              "      <th>reply_to</th>\n",
              "      <th>retweet_date</th>\n",
              "      <th>translate</th>\n",
              "      <th>trans_src</th>\n",
              "      <th>trans_dest</th>\n",
              "    </tr>\n",
              "  </thead>\n",
              "  <tbody>\n",
              "    <tr>\n",
              "      <th>0</th>\n",
              "      <td>1394679059943206915</td>\n",
              "      <td>1394679059943206915</td>\n",
              "      <td>1.621352e+12</td>\n",
              "      <td>2021-05-18 15:39:34</td>\n",
              "      <td>0</td>\n",
              "      <td>NaN</td>\n",
              "      <td>18 de Mayo  🏫Día Internacional de los Museos  ...</td>\n",
              "      <td>es</td>\n",
              "      <td>['uccuyo', 'paravos']</td>\n",
              "      <td>[]</td>\n",
              "      <td>370129152</td>\n",
              "      <td>370129152</td>\n",
              "      <td>UniversidadC</td>\n",
              "      <td>Universidad Católica de Cuyo</td>\n",
              "      <td>2</td>\n",
              "      <td>15</td>\n",
              "      <td>https://twitter.com/UniversidadC/status/139467...</td>\n",
              "      <td>[]</td>\n",
              "      <td>['https://pbs.twimg.com/media/E1rlNEqWEAozk6Y....</td>\n",
              "      <td>1</td>\n",
              "      <td>https://pbs.twimg.com/media/E1rlNEqWEAozk6Y.jpg</td>\n",
              "      <td>False</td>\n",
              "      <td>0</td>\n",
              "      <td>0</td>\n",
              "      <td>0</td>\n",
              "      <td>NaN</td>\n",
              "      <td>None</td>\n",
              "      <td>NaN</td>\n",
              "      <td>NaN</td>\n",
              "      <td>NaN</td>\n",
              "      <td>NaN</td>\n",
              "      <td>NaN</td>\n",
              "      <td>NaN</td>\n",
              "      <td>[]</td>\n",
              "      <td>NaN</td>\n",
              "      <td>NaN</td>\n",
              "      <td>NaN</td>\n",
              "      <td>NaN</td>\n",
              "    </tr>\n",
              "    <tr>\n",
              "      <th>1</th>\n",
              "      <td>1394493325407932417</td>\n",
              "      <td>1394493325407932417</td>\n",
              "      <td>1.621308e+12</td>\n",
              "      <td>2021-05-18 03:21:31</td>\n",
              "      <td>0</td>\n",
              "      <td>NaN</td>\n",
              "      <td>🇦🇷¡Viva la Patria!  #UCCuyo #ParaVos  https://...</td>\n",
              "      <td>es</td>\n",
              "      <td>['uccuyo', 'paravos']</td>\n",
              "      <td>[]</td>\n",
              "      <td>370129152</td>\n",
              "      <td>370129152</td>\n",
              "      <td>UniversidadC</td>\n",
              "      <td>Universidad Católica de Cuyo</td>\n",
              "      <td>2</td>\n",
              "      <td>3</td>\n",
              "      <td>https://twitter.com/UniversidadC/status/139449...</td>\n",
              "      <td>[]</td>\n",
              "      <td>['https://pbs.twimg.com/media/E1o8RqlXoAI8CP_....</td>\n",
              "      <td>1</td>\n",
              "      <td>https://pbs.twimg.com/media/E1o8RqlXoAI8CP_.jpg</td>\n",
              "      <td>False</td>\n",
              "      <td>0</td>\n",
              "      <td>0</td>\n",
              "      <td>0</td>\n",
              "      <td>NaN</td>\n",
              "      <td>None</td>\n",
              "      <td>NaN</td>\n",
              "      <td>NaN</td>\n",
              "      <td>NaN</td>\n",
              "      <td>NaN</td>\n",
              "      <td>NaN</td>\n",
              "      <td>NaN</td>\n",
              "      <td>[]</td>\n",
              "      <td>NaN</td>\n",
              "      <td>NaN</td>\n",
              "      <td>NaN</td>\n",
              "      <td>NaN</td>\n",
              "    </tr>\n",
              "    <tr>\n",
              "      <th>2</th>\n",
              "      <td>1393584430590177280</td>\n",
              "      <td>1393584430590177280</td>\n",
              "      <td>1.621091e+12</td>\n",
              "      <td>2021-05-15 15:09:54</td>\n",
              "      <td>0</td>\n",
              "      <td>NaN</td>\n",
              "      <td>Hoy‼️  👥🎶 Coro Universitario UCCuyo   ¡Te espe...</td>\n",
              "      <td>es</td>\n",
              "      <td>['uccuyo', 'paravos']</td>\n",
              "      <td>[]</td>\n",
              "      <td>370129152</td>\n",
              "      <td>370129152</td>\n",
              "      <td>UniversidadC</td>\n",
              "      <td>Universidad Católica de Cuyo</td>\n",
              "      <td>6</td>\n",
              "      <td>15</td>\n",
              "      <td>https://twitter.com/UniversidadC/status/139358...</td>\n",
              "      <td>[]</td>\n",
              "      <td>['https://pbs.twimg.com/media/E1cBpVXWYA0J6IV....</td>\n",
              "      <td>1</td>\n",
              "      <td>https://pbs.twimg.com/media/E1cBpVXWYA0J6IV.jpg</td>\n",
              "      <td>False</td>\n",
              "      <td>1</td>\n",
              "      <td>0</td>\n",
              "      <td>0</td>\n",
              "      <td>NaN</td>\n",
              "      <td>None</td>\n",
              "      <td>NaN</td>\n",
              "      <td>NaN</td>\n",
              "      <td>NaN</td>\n",
              "      <td>NaN</td>\n",
              "      <td>NaN</td>\n",
              "      <td>NaN</td>\n",
              "      <td>[]</td>\n",
              "      <td>NaN</td>\n",
              "      <td>NaN</td>\n",
              "      <td>NaN</td>\n",
              "      <td>NaN</td>\n",
              "    </tr>\n",
              "    <tr>\n",
              "      <th>3</th>\n",
              "      <td>1392502685463715846</td>\n",
              "      <td>1392502685463715846</td>\n",
              "      <td>1.620833e+12</td>\n",
              "      <td>2021-05-12 15:31:26</td>\n",
              "      <td>0</td>\n",
              "      <td>NaN</td>\n",
              "      <td>👩🏻‍⚕️🩹👨🏽‍⚕️Feliz día a todos los profesionales...</td>\n",
              "      <td>es</td>\n",
              "      <td>['uccuyo', 'paravos']</td>\n",
              "      <td>[]</td>\n",
              "      <td>370129152</td>\n",
              "      <td>370129152</td>\n",
              "      <td>UniversidadC</td>\n",
              "      <td>Universidad Católica de Cuyo</td>\n",
              "      <td>3</td>\n",
              "      <td>15</td>\n",
              "      <td>https://twitter.com/UniversidadC/status/139250...</td>\n",
              "      <td>[]</td>\n",
              "      <td>['https://pbs.twimg.com/media/E1MpzYeXMAEfM8E....</td>\n",
              "      <td>1</td>\n",
              "      <td>https://pbs.twimg.com/media/E1MpzYeXMAEfM8E.jpg</td>\n",
              "      <td>False</td>\n",
              "      <td>0</td>\n",
              "      <td>0</td>\n",
              "      <td>0</td>\n",
              "      <td>NaN</td>\n",
              "      <td>None</td>\n",
              "      <td>NaN</td>\n",
              "      <td>NaN</td>\n",
              "      <td>NaN</td>\n",
              "      <td>NaN</td>\n",
              "      <td>NaN</td>\n",
              "      <td>NaN</td>\n",
              "      <td>[]</td>\n",
              "      <td>NaN</td>\n",
              "      <td>NaN</td>\n",
              "      <td>NaN</td>\n",
              "      <td>NaN</td>\n",
              "    </tr>\n",
              "    <tr>\n",
              "      <th>4</th>\n",
              "      <td>1392173708282933253</td>\n",
              "      <td>1392173708282933253</td>\n",
              "      <td>1.620755e+12</td>\n",
              "      <td>2021-05-11 17:44:12</td>\n",
              "      <td>0</td>\n",
              "      <td>NaN</td>\n",
              "      <td>🏥Desde la Facultad de Ciencias Medicas-UCCuyo ...</td>\n",
              "      <td>es</td>\n",
              "      <td>['uccuyo', 'paravos']</td>\n",
              "      <td>[]</td>\n",
              "      <td>370129152</td>\n",
              "      <td>370129152</td>\n",
              "      <td>UniversidadC</td>\n",
              "      <td>Universidad Católica de Cuyo</td>\n",
              "      <td>2</td>\n",
              "      <td>17</td>\n",
              "      <td>https://twitter.com/UniversidadC/status/139217...</td>\n",
              "      <td>['https://zoom.us/j/97080525865']</td>\n",
              "      <td>['https://pbs.twimg.com/media/E1H-maMWEAI42Ty....</td>\n",
              "      <td>1</td>\n",
              "      <td>https://pbs.twimg.com/media/E1H-maMWEAI42Ty.jpg</td>\n",
              "      <td>False</td>\n",
              "      <td>0</td>\n",
              "      <td>0</td>\n",
              "      <td>0</td>\n",
              "      <td>NaN</td>\n",
              "      <td>None</td>\n",
              "      <td>NaN</td>\n",
              "      <td>NaN</td>\n",
              "      <td>NaN</td>\n",
              "      <td>NaN</td>\n",
              "      <td>NaN</td>\n",
              "      <td>NaN</td>\n",
              "      <td>[]</td>\n",
              "      <td>NaN</td>\n",
              "      <td>NaN</td>\n",
              "      <td>NaN</td>\n",
              "      <td>NaN</td>\n",
              "    </tr>\n",
              "  </tbody>\n",
              "</table>\n",
              "</div>"
            ],
            "text/plain": [
              "                    id      conversation_id  ...  trans_src trans_dest\n",
              "0  1394679059943206915  1394679059943206915  ...        NaN        NaN\n",
              "1  1394493325407932417  1394493325407932417  ...        NaN        NaN\n",
              "2  1393584430590177280  1393584430590177280  ...        NaN        NaN\n",
              "3  1392502685463715846  1392502685463715846  ...        NaN        NaN\n",
              "4  1392173708282933253  1392173708282933253  ...        NaN        NaN\n",
              "\n",
              "[5 rows x 38 columns]"
            ]
          },
          "metadata": {
            "tags": []
          },
          "execution_count": 102
        }
      ]
    },
    {
      "cell_type": "markdown",
      "metadata": {
        "id": "UBZPfapxMt_a"
      },
      "source": [
        "Material extra álgebra lineal:\n",
        "\n",
        "https://colab.research.google.com/github/ageron/handson-ml2/blob/master/math_linear_algebra.ipynb\n"
      ]
    },
    {
      "cell_type": "code",
      "metadata": {
        "id": "A2N30WBArzYy"
      },
      "source": [
        ""
      ],
      "execution_count": null,
      "outputs": []
    }
  ]
}